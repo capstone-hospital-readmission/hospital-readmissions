{
 "cells": [
  {
   "cell_type": "code",
   "execution_count": 1,
   "metadata": {
    "scrolled": true
   },
   "outputs": [],
   "source": [
    "from myData import *\n",
    "#from Preprocess import *\n",
    "import pandas as pd\n",
    "import numpy as np\n",
    "from sklearn.metrics import *\n",
    "from sklearn.preprocessing import LabelEncoder\n",
    "from sklearn import model_selection as ms\n",
    "from sklearn.linear_model import LogisticRegression\n",
    "from sklearn.ensemble import RandomForestClassifier, GradientBoostingClassifier\n",
    "from sklearn.pipeline import make_pipeline\n",
    "from sklearn.preprocessing import OneHotEncoder\n",
    "\n",
    "import warnings\n",
    "warnings.filterwarnings('ignore')\n",
    "from matplotlib import pyplot as plt\n",
    "%matplotlib inline\n"
   ]
  },
  {
   "cell_type": "code",
   "execution_count": 2,
   "metadata": {},
   "outputs": [
    {
     "name": "stdout",
     "output_type": "stream",
     "text": [
      "raw data shape (101766, 50)\n",
      "['time_in_hospital', 'num_lab_procedures', 'num_procedures', 'num_medications', 'number_outpatient', 'number_emergency', 'number_inpatient', 'number_diagnoses']\n",
      "['race', 'gender', 'age', 'admission_type_id', 'discharge_disposition_id', 'admission_source_id', 'medical_specialty', 'max_glu_serum', 'A1Cresult', 'metformin', 'repaglinide', 'nateglinide', 'chlorpropamide', 'glimepiride', 'acetohexamide', 'glipizide', 'glyburide', 'tolbutamide', 'pioglitazone', 'rosiglitazone', 'acarbose', 'miglitol', 'troglitazone', 'tolazamide', 'examide', 'citoglipton', 'insulin', 'glyburide-metformin', 'glipizide-metformin', 'glimepiride-pioglitazone', 'metformin-rosiglitazone', 'metformin-pioglitazone', 'change', 'diabetesMed', 'readmitted', 'diabetic']\n",
      "processed data shape: (69973, 43)\n"
     ]
    },
    {
     "data": {
      "text/plain": [
       "Index(['race', 'gender', 'age', 'admission_type_id',\n",
       "       'discharge_disposition_id', 'admission_source_id', 'time_in_hospital',\n",
       "       'medical_specialty', 'num_lab_procedures', 'num_procedures',\n",
       "       'num_medications', 'number_outpatient', 'number_emergency',\n",
       "       'number_inpatient', 'number_diagnoses', 'max_glu_serum', 'A1Cresult',\n",
       "       'metformin', 'repaglinide', 'nateglinide', 'chlorpropamide',\n",
       "       'glimepiride', 'acetohexamide', 'glipizide', 'glyburide', 'tolbutamide',\n",
       "       'pioglitazone', 'rosiglitazone', 'acarbose', 'miglitol', 'troglitazone',\n",
       "       'tolazamide', 'examide', 'citoglipton', 'insulin',\n",
       "       'glyburide-metformin', 'glipizide-metformin',\n",
       "       'glimepiride-pioglitazone', 'metformin-rosiglitazone',\n",
       "       'metformin-pioglitazone', 'change', 'diabetesMed', 'diabetic',\n",
       "       'readmitted'],\n",
       "      dtype='object')"
      ]
     },
     "execution_count": 2,
     "metadata": {},
     "output_type": "execute_result"
    }
   ],
   "source": [
    "X,y,_= get_data('diabetic_data.csv',labelEncode=False, skewness=False)\n",
    "df = pd.concat([X,y], axis=1)\n",
    "df.columns"
   ]
  },
  {
   "cell_type": "code",
   "execution_count": 3,
   "metadata": {},
   "outputs": [
    {
     "data": {
      "text/html": [
       "<div>\n",
       "<style scoped>\n",
       "    .dataframe tbody tr th:only-of-type {\n",
       "        vertical-align: middle;\n",
       "    }\n",
       "\n",
       "    .dataframe tbody tr th {\n",
       "        vertical-align: top;\n",
       "    }\n",
       "\n",
       "    .dataframe thead th {\n",
       "        text-align: right;\n",
       "    }\n",
       "</style>\n",
       "<table border=\"1\" class=\"dataframe\">\n",
       "  <thead>\n",
       "    <tr style=\"text-align: right;\">\n",
       "      <th></th>\n",
       "      <th>race</th>\n",
       "      <th>gender</th>\n",
       "      <th>age</th>\n",
       "      <th>admission_type_id</th>\n",
       "      <th>discharge_disposition_id</th>\n",
       "      <th>admission_source_id</th>\n",
       "      <th>time_in_hospital</th>\n",
       "      <th>medical_specialty</th>\n",
       "      <th>num_lab_procedures</th>\n",
       "      <th>num_procedures</th>\n",
       "      <th>num_medications</th>\n",
       "      <th>number_outpatient</th>\n",
       "      <th>number_emergency</th>\n",
       "      <th>number_inpatient</th>\n",
       "      <th>number_diagnoses</th>\n",
       "      <th>max_glu_serum</th>\n",
       "      <th>A1Cresult</th>\n",
       "      <th>metformin</th>\n",
       "      <th>repaglinide</th>\n",
       "      <th>nateglinide</th>\n",
       "      <th>chlorpropamide</th>\n",
       "      <th>glimepiride</th>\n",
       "      <th>acetohexamide</th>\n",
       "      <th>glipizide</th>\n",
       "      <th>glyburide</th>\n",
       "      <th>tolbutamide</th>\n",
       "      <th>pioglitazone</th>\n",
       "      <th>rosiglitazone</th>\n",
       "      <th>acarbose</th>\n",
       "      <th>miglitol</th>\n",
       "      <th>troglitazone</th>\n",
       "      <th>tolazamide</th>\n",
       "      <th>examide</th>\n",
       "      <th>citoglipton</th>\n",
       "      <th>insulin</th>\n",
       "      <th>glyburide-metformin</th>\n",
       "      <th>glipizide-metformin</th>\n",
       "      <th>glimepiride-pioglitazone</th>\n",
       "      <th>metformin-rosiglitazone</th>\n",
       "      <th>metformin-pioglitazone</th>\n",
       "      <th>change</th>\n",
       "      <th>diabetesMed</th>\n",
       "      <th>diabetic</th>\n",
       "      <th>readmitted</th>\n",
       "    </tr>\n",
       "  </thead>\n",
       "  <tbody>\n",
       "    <tr>\n",
       "      <th>0</th>\n",
       "      <td>Caucasian</td>\n",
       "      <td>Female</td>\n",
       "      <td>30-60</td>\n",
       "      <td>2</td>\n",
       "      <td>1</td>\n",
       "      <td>1</td>\n",
       "      <td>8</td>\n",
       "      <td>Cardiology</td>\n",
       "      <td>77</td>\n",
       "      <td>6</td>\n",
       "      <td>33</td>\n",
       "      <td>0</td>\n",
       "      <td>0</td>\n",
       "      <td>0</td>\n",
       "      <td>8</td>\n",
       "      <td>None</td>\n",
       "      <td>None</td>\n",
       "      <td>Steady</td>\n",
       "      <td>No</td>\n",
       "      <td>No</td>\n",
       "      <td>No</td>\n",
       "      <td>No</td>\n",
       "      <td>No</td>\n",
       "      <td>No</td>\n",
       "      <td>Down</td>\n",
       "      <td>No</td>\n",
       "      <td>No</td>\n",
       "      <td>No</td>\n",
       "      <td>No</td>\n",
       "      <td>No</td>\n",
       "      <td>No</td>\n",
       "      <td>No</td>\n",
       "      <td>No</td>\n",
       "      <td>No</td>\n",
       "      <td>Steady</td>\n",
       "      <td>No</td>\n",
       "      <td>No</td>\n",
       "      <td>No</td>\n",
       "      <td>No</td>\n",
       "      <td>No</td>\n",
       "      <td>Ch</td>\n",
       "      <td>Yes</td>\n",
       "      <td>No</td>\n",
       "      <td>Yes</td>\n",
       "    </tr>\n",
       "    <tr>\n",
       "      <th>1</th>\n",
       "      <td>Caucasian</td>\n",
       "      <td>Female</td>\n",
       "      <td>30-60</td>\n",
       "      <td>3</td>\n",
       "      <td>1</td>\n",
       "      <td>1</td>\n",
       "      <td>2</td>\n",
       "      <td>Surgery-Neuro</td>\n",
       "      <td>49</td>\n",
       "      <td>1</td>\n",
       "      <td>11</td>\n",
       "      <td>0</td>\n",
       "      <td>0</td>\n",
       "      <td>0</td>\n",
       "      <td>3</td>\n",
       "      <td>None</td>\n",
       "      <td>None</td>\n",
       "      <td>No</td>\n",
       "      <td>No</td>\n",
       "      <td>No</td>\n",
       "      <td>No</td>\n",
       "      <td>No</td>\n",
       "      <td>No</td>\n",
       "      <td>No</td>\n",
       "      <td>No</td>\n",
       "      <td>No</td>\n",
       "      <td>No</td>\n",
       "      <td>No</td>\n",
       "      <td>No</td>\n",
       "      <td>No</td>\n",
       "      <td>No</td>\n",
       "      <td>No</td>\n",
       "      <td>No</td>\n",
       "      <td>No</td>\n",
       "      <td>No</td>\n",
       "      <td>No</td>\n",
       "      <td>No</td>\n",
       "      <td>No</td>\n",
       "      <td>No</td>\n",
       "      <td>No</td>\n",
       "      <td>No</td>\n",
       "      <td>No</td>\n",
       "      <td>Yes</td>\n",
       "      <td>No</td>\n",
       "    </tr>\n",
       "    <tr>\n",
       "      <th>2</th>\n",
       "      <td>Caucasian</td>\n",
       "      <td>Female</td>\n",
       "      <td>&gt;60</td>\n",
       "      <td>1</td>\n",
       "      <td>3</td>\n",
       "      <td>7</td>\n",
       "      <td>4</td>\n",
       "      <td>InternalMedicine</td>\n",
       "      <td>68</td>\n",
       "      <td>2</td>\n",
       "      <td>23</td>\n",
       "      <td>0</td>\n",
       "      <td>0</td>\n",
       "      <td>0</td>\n",
       "      <td>9</td>\n",
       "      <td>None</td>\n",
       "      <td>&gt;7</td>\n",
       "      <td>Steady</td>\n",
       "      <td>No</td>\n",
       "      <td>No</td>\n",
       "      <td>No</td>\n",
       "      <td>No</td>\n",
       "      <td>No</td>\n",
       "      <td>No</td>\n",
       "      <td>No</td>\n",
       "      <td>No</td>\n",
       "      <td>No</td>\n",
       "      <td>No</td>\n",
       "      <td>No</td>\n",
       "      <td>No</td>\n",
       "      <td>No</td>\n",
       "      <td>No</td>\n",
       "      <td>No</td>\n",
       "      <td>No</td>\n",
       "      <td>No</td>\n",
       "      <td>No</td>\n",
       "      <td>No</td>\n",
       "      <td>No</td>\n",
       "      <td>No</td>\n",
       "      <td>No</td>\n",
       "      <td>No</td>\n",
       "      <td>Yes</td>\n",
       "      <td>No</td>\n",
       "      <td>No</td>\n",
       "    </tr>\n",
       "    <tr>\n",
       "      <th>3</th>\n",
       "      <td>Caucasian</td>\n",
       "      <td>Female</td>\n",
       "      <td>&gt;60</td>\n",
       "      <td>1</td>\n",
       "      <td>1</td>\n",
       "      <td>7</td>\n",
       "      <td>3</td>\n",
       "      <td>InternalMedicine</td>\n",
       "      <td>46</td>\n",
       "      <td>0</td>\n",
       "      <td>20</td>\n",
       "      <td>0</td>\n",
       "      <td>0</td>\n",
       "      <td>0</td>\n",
       "      <td>9</td>\n",
       "      <td>None</td>\n",
       "      <td>&gt;8</td>\n",
       "      <td>Steady</td>\n",
       "      <td>No</td>\n",
       "      <td>No</td>\n",
       "      <td>No</td>\n",
       "      <td>No</td>\n",
       "      <td>No</td>\n",
       "      <td>No</td>\n",
       "      <td>Steady</td>\n",
       "      <td>No</td>\n",
       "      <td>No</td>\n",
       "      <td>No</td>\n",
       "      <td>No</td>\n",
       "      <td>No</td>\n",
       "      <td>No</td>\n",
       "      <td>No</td>\n",
       "      <td>No</td>\n",
       "      <td>No</td>\n",
       "      <td>No</td>\n",
       "      <td>No</td>\n",
       "      <td>No</td>\n",
       "      <td>No</td>\n",
       "      <td>No</td>\n",
       "      <td>No</td>\n",
       "      <td>Ch</td>\n",
       "      <td>Yes</td>\n",
       "      <td>No</td>\n",
       "      <td>No</td>\n",
       "    </tr>\n",
       "    <tr>\n",
       "      <th>4</th>\n",
       "      <td>AfricanAmerican</td>\n",
       "      <td>Female</td>\n",
       "      <td>30-60</td>\n",
       "      <td>1</td>\n",
       "      <td>1</td>\n",
       "      <td>7</td>\n",
       "      <td>5</td>\n",
       "      <td>InternalMedicine</td>\n",
       "      <td>49</td>\n",
       "      <td>0</td>\n",
       "      <td>5</td>\n",
       "      <td>0</td>\n",
       "      <td>0</td>\n",
       "      <td>0</td>\n",
       "      <td>3</td>\n",
       "      <td>None</td>\n",
       "      <td>None</td>\n",
       "      <td>No</td>\n",
       "      <td>No</td>\n",
       "      <td>No</td>\n",
       "      <td>No</td>\n",
       "      <td>Steady</td>\n",
       "      <td>No</td>\n",
       "      <td>No</td>\n",
       "      <td>No</td>\n",
       "      <td>No</td>\n",
       "      <td>No</td>\n",
       "      <td>No</td>\n",
       "      <td>No</td>\n",
       "      <td>No</td>\n",
       "      <td>No</td>\n",
       "      <td>No</td>\n",
       "      <td>No</td>\n",
       "      <td>No</td>\n",
       "      <td>No</td>\n",
       "      <td>No</td>\n",
       "      <td>No</td>\n",
       "      <td>No</td>\n",
       "      <td>No</td>\n",
       "      <td>No</td>\n",
       "      <td>No</td>\n",
       "      <td>Yes</td>\n",
       "      <td>Yes</td>\n",
       "      <td>No</td>\n",
       "    </tr>\n",
       "  </tbody>\n",
       "</table>\n",
       "</div>"
      ],
      "text/plain": [
       "              race  gender    age admission_type_id discharge_disposition_id  \\\n",
       "0        Caucasian  Female  30-60                 2                        1   \n",
       "1        Caucasian  Female  30-60                 3                        1   \n",
       "2        Caucasian  Female    >60                 1                        3   \n",
       "3        Caucasian  Female    >60                 1                        1   \n",
       "4  AfricanAmerican  Female  30-60                 1                        1   \n",
       "\n",
       "  admission_source_id  time_in_hospital medical_specialty  num_lab_procedures  \\\n",
       "0                   1                 8        Cardiology                  77   \n",
       "1                   1                 2     Surgery-Neuro                  49   \n",
       "2                   7                 4  InternalMedicine                  68   \n",
       "3                   7                 3  InternalMedicine                  46   \n",
       "4                   7                 5  InternalMedicine                  49   \n",
       "\n",
       "   num_procedures  num_medications  number_outpatient  number_emergency  \\\n",
       "0               6               33                  0                 0   \n",
       "1               1               11                  0                 0   \n",
       "2               2               23                  0                 0   \n",
       "3               0               20                  0                 0   \n",
       "4               0                5                  0                 0   \n",
       "\n",
       "   number_inpatient  number_diagnoses max_glu_serum A1Cresult metformin  \\\n",
       "0                 0                 8          None      None    Steady   \n",
       "1                 0                 3          None      None        No   \n",
       "2                 0                 9          None        >7    Steady   \n",
       "3                 0                 9          None        >8    Steady   \n",
       "4                 0                 3          None      None        No   \n",
       "\n",
       "  repaglinide nateglinide chlorpropamide glimepiride acetohexamide glipizide  \\\n",
       "0          No          No             No          No            No        No   \n",
       "1          No          No             No          No            No        No   \n",
       "2          No          No             No          No            No        No   \n",
       "3          No          No             No          No            No        No   \n",
       "4          No          No             No      Steady            No        No   \n",
       "\n",
       "  glyburide tolbutamide pioglitazone rosiglitazone acarbose miglitol  \\\n",
       "0      Down          No           No            No       No       No   \n",
       "1        No          No           No            No       No       No   \n",
       "2        No          No           No            No       No       No   \n",
       "3    Steady          No           No            No       No       No   \n",
       "4        No          No           No            No       No       No   \n",
       "\n",
       "  troglitazone tolazamide examide citoglipton insulin glyburide-metformin  \\\n",
       "0           No         No      No          No  Steady                  No   \n",
       "1           No         No      No          No      No                  No   \n",
       "2           No         No      No          No      No                  No   \n",
       "3           No         No      No          No      No                  No   \n",
       "4           No         No      No          No      No                  No   \n",
       "\n",
       "  glipizide-metformin glimepiride-pioglitazone metformin-rosiglitazone  \\\n",
       "0                  No                       No                      No   \n",
       "1                  No                       No                      No   \n",
       "2                  No                       No                      No   \n",
       "3                  No                       No                      No   \n",
       "4                  No                       No                      No   \n",
       "\n",
       "  metformin-pioglitazone change diabetesMed diabetic readmitted  \n",
       "0                     No     Ch         Yes       No        Yes  \n",
       "1                     No     No          No      Yes         No  \n",
       "2                     No     No         Yes       No         No  \n",
       "3                     No     Ch         Yes       No         No  \n",
       "4                     No     No         Yes      Yes         No  "
      ]
     },
     "execution_count": 3,
     "metadata": {},
     "output_type": "execute_result"
    }
   ],
   "source": [
    "pd.set_option('display.max_columns', 50)\n",
    "df.head()"
   ]
  },
  {
   "cell_type": "code",
   "execution_count": 4,
   "metadata": {},
   "outputs": [
    {
     "data": {
      "text/plain": [
       "Text(0.5, 1.0, 'Race')"
      ]
     },
     "execution_count": 4,
     "metadata": {},
     "output_type": "execute_result"
    },
    {
     "data": {
      "image/png": "[encoded data removed]",
      "text/plain": [
       "<Figure size 288x216 with 1 Axes>"
      ]
     },
     "metadata": {
      "needs_background": "light"
     },
     "output_type": "display_data"
    }
   ],
   "source": [
    "plt.rcParams['figure.figsize']= [4.0, 3.0]\n",
    "df.loc[df['readmitted'].isin(['1','Yes']),'race'].value_counts().plot(kind='bar')\n",
    "plt.title('Race')"
   ]
  },
  {
   "cell_type": "code",
   "execution_count": 5,
   "metadata": {},
   "outputs": [
    {
     "data": {
      "text/plain": [
       "Text(0.5, 1.0, 'gender')"
      ]
     },
     "execution_count": 5,
     "metadata": {},
     "output_type": "execute_result"
    },
    {
     "data": {
      "image/png": "[encoded data removed]",
      "text/plain": [
       "<Figure size 288x216 with 1 Axes>"
      ]
     },
     "metadata": {
      "needs_background": "light"
     },
     "output_type": "display_data"
    }
   ],
   "source": [
    "plt.rcParams['figure.figsize']= [4.0, 3.0]\n",
    "df.loc[df['readmitted'].isin(['1','Yes']),'gender'].value_counts().plot(kind='bar')\n",
    "plt.title('gender')"
   ]
  },
  {
   "cell_type": "code",
   "execution_count": 6,
   "metadata": {},
   "outputs": [
    {
     "data": {
      "text/plain": [
       "Text(0.5, 1.0, 'Age')"
      ]
     },
     "execution_count": 6,
     "metadata": {},
     "output_type": "execute_result"
    },
    {
     "data": {
      "image/png": "[encoded data removed]",
      "text/plain": [
       "<Figure size 288x216 with 1 Axes>"
      ]
     },
     "metadata": {
      "needs_background": "light"
     },
     "output_type": "display_data"
    }
   ],
   "source": [
    "df.loc[df['readmitted'].isin(['1','Yes']),'age'].value_counts().plot(kind='bar')\n",
    "plt.title(\"Age\")"
   ]
  },
  {
   "cell_type": "code",
   "execution_count": 7,
   "metadata": {},
   "outputs": [
    {
     "data": {
      "text/plain": [
       "Text(0.5, 1.0, 'discharge_disposition_id')"
      ]
     },
     "execution_count": 7,
     "metadata": {},
     "output_type": "execute_result"
    },
    {
     "data": {
      "image/png": "[encoded data removed]",
      "text/plain": [
       "<Figure size 504x216 with 1 Axes>"
      ]
     },
     "metadata": {
      "needs_background": "light"
     },
     "output_type": "display_data"
    }
   ],
   "source": [
    "plt.rcParams['figure.figsize']= [7.0, 3.0]\n",
    "df.loc[df['readmitted'].isin(['1','Yes']),'discharge_disposition_id'].value_counts().plot(kind='bar')\n",
    "plt.title(\"discharge_disposition_id\")"
   ]
  },
  {
   "cell_type": "code",
   "execution_count": 8,
   "metadata": {},
   "outputs": [
    {
     "data": {
      "text/plain": [
       "Text(0.5, 1.0, 'admission_source_id')"
      ]
     },
     "execution_count": 8,
     "metadata": {},
     "output_type": "execute_result"
    },
    {
     "data": {
      "image/png": "[encoded data removed]",
      "text/plain": [
       "<Figure size 432x216 with 1 Axes>"
      ]
     },
     "metadata": {
      "needs_background": "light"
     },
     "output_type": "display_data"
    }
   ],
   "source": [
    "plt.rcParams['figure.figsize']= [6.0, 3.0]\n",
    "df.loc[df['readmitted'].isin(['1','Yes']),'admission_source_id'].value_counts()[:25].plot(kind='bar')\n",
    "plt.title(\"admission_source_id\")"
   ]
  },
  {
   "cell_type": "code",
   "execution_count": 9,
   "metadata": {},
   "outputs": [
    {
     "data": {
      "text/plain": [
       "Text(0.5, 1.0, 'time_in_hospital')"
      ]
     },
     "execution_count": 9,
     "metadata": {},
     "output_type": "execute_result"
    },
    {
     "data": {
      "image/png": "[encoded data removed]",
      "text/plain": [
       "<Figure size 720x216 with 1 Axes>"
      ]
     },
     "metadata": {
      "needs_background": "light"
     },
     "output_type": "display_data"
    }
   ],
   "source": [
    "plt.rcParams['figure.figsize']= [10.0, 3.0]\n",
    "df.loc[df['readmitted'].isin(['1','Yes']),'time_in_hospital'].value_counts()[:25].plot(kind='bar')\n",
    "plt.title(\"time_in_hospital\")"
   ]
  },
  {
   "cell_type": "code",
   "execution_count": 10,
   "metadata": {},
   "outputs": [
    {
     "data": {
      "text/plain": [
       "Text(0.5, 1.0, 'medical_specialty')"
      ]
     },
     "execution_count": 10,
     "metadata": {},
     "output_type": "execute_result"
    },
    {
     "data": {
      "image/png": "[encoded data removed]",
      "text/plain": [
       "<Figure size 720x216 with 1 Axes>"
      ]
     },
     "metadata": {
      "needs_background": "light"
     },
     "output_type": "display_data"
    }
   ],
   "source": [
    "#plt.rcParams['figure.figsize']= [10.0, 3.0]\n",
    "df.loc[df['readmitted'].isin(['1','Yes']),'medical_specialty'].value_counts()[:25].plot(kind='bar')\n",
    "plt.title(\"medical_specialty\")"
   ]
  },
  {
   "cell_type": "code",
   "execution_count": 11,
   "metadata": {},
   "outputs": [
    {
     "data": {
      "text/plain": [
       "Text(0.5, 1.0, 'num_lab_procedures')"
      ]
     },
     "execution_count": 11,
     "metadata": {},
     "output_type": "execute_result"
    },
    {
     "data": {
      "image/png": "[encoded data removed]",
      "text/plain": [
       "<Figure size 720x216 with 1 Axes>"
      ]
     },
     "metadata": {
      "needs_background": "light"
     },
     "output_type": "display_data"
    }
   ],
   "source": [
    "#plt.rcParams['figure.figsize']= [10.0, 3.0]\n",
    "df.loc[df['readmitted'].isin(['1','Yes']),'num_lab_procedures'].value_counts()[:50].plot(kind='bar')\n",
    "plt.title(\"num_lab_procedures\")"
   ]
  },
  {
   "cell_type": "code",
   "execution_count": 12,
   "metadata": {
    "scrolled": false
   },
   "outputs": [
    {
     "data": {
      "text/plain": [
       "Text(0.5, 1.0, 'num_procedures')"
      ]
     },
     "execution_count": 12,
     "metadata": {},
     "output_type": "execute_result"
    },
    {
     "data": {
      "image/png": "[encoded data removed]",
      "text/plain": [
       "<Figure size 720x216 with 1 Axes>"
      ]
     },
     "metadata": {
      "needs_background": "light"
     },
     "output_type": "display_data"
    }
   ],
   "source": [
    "#plt.rcParams['figure.figsize']= [6.0, 3.0]\n",
    "df.loc[df['readmitted'].isin(['1','Yes']),'num_procedures'].value_counts().plot(kind='bar')\n",
    "plt.title(\"num_procedures\")"
   ]
  },
  {
   "cell_type": "code",
   "execution_count": 13,
   "metadata": {
    "scrolled": false
   },
   "outputs": [
    {
     "data": {
      "text/plain": [
       "Text(0.5, 1.0, 'num_medications')"
      ]
     },
     "execution_count": 13,
     "metadata": {},
     "output_type": "execute_result"
    },
    {
     "data": {
      "image/png": "[encoded data removed]",
      "text/plain": [
       "<Figure size 720x216 with 1 Axes>"
      ]
     },
     "metadata": {
      "needs_background": "light"
     },
     "output_type": "display_data"
    }
   ],
   "source": [
    "plt.rcParams['figure.figsize']= [10.0, 3.0]\n",
    "df.loc[df['readmitted'].isin(['1','Yes']),'num_medications'].value_counts()[:40].plot(kind='bar')\n",
    "plt.title(\"num_medications\")"
   ]
  },
  {
   "cell_type": "code",
   "execution_count": 14,
   "metadata": {},
   "outputs": [
    {
     "data": {
      "text/plain": [
       "Text(0.5, 1.0, 'number_emergency')"
      ]
     },
     "execution_count": 14,
     "metadata": {},
     "output_type": "execute_result"
    },
    {
     "data": {
      "image/png": "[encoded data removed]",
      "text/plain": [
       "<Figure size 720x216 with 1 Axes>"
      ]
     },
     "metadata": {
      "needs_background": "light"
     },
     "output_type": "display_data"
    }
   ],
   "source": [
    "#plt.rcParams['figure.figsize']= [6.0, 4.0]\n",
    "df.loc[df['readmitted'].isin(['1','Yes']),'number_emergency'].value_counts().plot(kind='bar')\n",
    "plt.title(\"number_emergency\")"
   ]
  },
  {
   "cell_type": "code",
   "execution_count": 15,
   "metadata": {
    "scrolled": false
   },
   "outputs": [
    {
     "data": {
      "text/plain": [
       "Text(0.5, 1.0, 'number_inpatient')"
      ]
     },
     "execution_count": 15,
     "metadata": {},
     "output_type": "execute_result"
    },
    {
     "data": {
      "image/png": "[encoded data removed]",
      "text/plain": [
       "<Figure size 720x216 with 1 Axes>"
      ]
     },
     "metadata": {
      "needs_background": "light"
     },
     "output_type": "display_data"
    }
   ],
   "source": [
    "#plt.rcParams['figure.figsize']= [6.0, 4.0]\n",
    "df.loc[df['readmitted'].isin(['1','Yes']),'number_inpatient'].value_counts().plot(kind='bar')\n",
    "plt.title(\"number_inpatient\")"
   ]
  },
  {
   "cell_type": "code",
   "execution_count": 16,
   "metadata": {
    "scrolled": true
   },
   "outputs": [
    {
     "data": {
      "text/plain": [
       "Text(0.5, 1.0, 'number_outpatient')"
      ]
     },
     "execution_count": 16,
     "metadata": {},
     "output_type": "execute_result"
    },
    {
     "data": {
      "image/png": "[encoded data removed]",
      "text/plain": [
       "<Figure size 432x216 with 1 Axes>"
      ]
     },
     "metadata": {
      "needs_background": "light"
     },
     "output_type": "display_data"
    }
   ],
   "source": [
    "plt.rcParams['figure.figsize']= [6.0, 3.0]\n",
    "df.loc[df['readmitted'].isin(['1','Yes']),'number_outpatient'].value_counts().plot(kind='bar')\n",
    "plt.title(\"number_outpatient\")"
   ]
  },
  {
   "cell_type": "code",
   "execution_count": 17,
   "metadata": {
    "scrolled": true
   },
   "outputs": [
    {
     "data": {
      "text/plain": [
       "Text(0.5, 1.0, 'number_diagnoses')"
      ]
     },
     "execution_count": 17,
     "metadata": {},
     "output_type": "execute_result"
    },
    {
     "data": {
      "image/png": "[encoded data removed]",
      "text/plain": [
       "<Figure size 432x216 with 1 Axes>"
      ]
     },
     "metadata": {
      "needs_background": "light"
     },
     "output_type": "display_data"
    }
   ],
   "source": [
    "plt.rcParams['figure.figsize']= [6.0, 3.0]\n",
    "df.loc[df['readmitted'].isin(['1','Yes']),'number_diagnoses'].value_counts().plot(kind='bar')\n",
    "plt.title(\"number_diagnoses\")"
   ]
  },
  {
   "cell_type": "code",
   "execution_count": 18,
   "metadata": {
    "scrolled": false
   },
   "outputs": [
    {
     "data": {
      "text/plain": [
       "Text(0.5, 1.0, 'number_outpatient')"
      ]
     },
     "execution_count": 18,
     "metadata": {},
     "output_type": "execute_result"
    },
    {
     "data": {
      "image/png": "[encoded data removed]",
      "text/plain": [
       "<Figure size 432x216 with 1 Axes>"
      ]
     },
     "metadata": {
      "needs_background": "light"
     },
     "output_type": "display_data"
    }
   ],
   "source": [
    "plt.rcParams['figure.figsize']= [6.0, 3.0]\n",
    "df.loc[df['readmitted'].isin(['1','Yes']),'number_outpatient'].value_counts()[:10].plot(kind='bar')\n",
    "plt.title(\"number_outpatient\")"
   ]
  },
  {
   "cell_type": "code",
   "execution_count": 21,
   "metadata": {
    "scrolled": false
   },
   "outputs": [
    {
     "data": {
      "text/plain": [
       "Text(0.5, 1.0, 'readmitted')"
      ]
     },
     "execution_count": 21,
     "metadata": {},
     "output_type": "execute_result"
    },
    {
     "data": {
      "image/png": "[encoded data removed]",
      "text/plain": [
       "<Figure size 432x216 with 1 Axes>"
      ]
     },
     "metadata": {
      "needs_background": "light"
     },
     "output_type": "display_data"
    }
   ],
   "source": [
    "plt.rcParams['figure.figsize']= [6.0, 3.0]\n",
    "df['readmitted'].value_counts().plot(kind='bar')\n",
    "plt.title(\"readmitted\")"
   ]
  },
  {
   "cell_type": "code",
   "execution_count": null,
   "metadata": {},
   "outputs": [],
   "source": []
  },
  {
   "cell_type": "code",
   "execution_count": 22,
   "metadata": {},
   "outputs": [],
   "source": [
    "plt.rcParams['figure.figsize']= [8.0, 5.0]"
   ]
  },
  {
   "cell_type": "code",
   "execution_count": 23,
   "metadata": {},
   "outputs": [
    {
     "name": "stdout",
     "output_type": "stream",
     "text": [
      "raw data shape (101766, 50)\n",
      "['time_in_hospital', 'num_lab_procedures', 'num_procedures', 'num_medications', 'number_outpatient', 'number_emergency', 'number_inpatient', 'number_diagnoses']\n",
      "['race', 'gender', 'age', 'admission_type_id', 'discharge_disposition_id', 'admission_source_id', 'medical_specialty', 'max_glu_serum', 'A1Cresult', 'metformin', 'repaglinide', 'nateglinide', 'chlorpropamide', 'glimepiride', 'acetohexamide', 'glipizide', 'glyburide', 'tolbutamide', 'pioglitazone', 'rosiglitazone', 'acarbose', 'miglitol', 'troglitazone', 'tolazamide', 'examide', 'citoglipton', 'insulin', 'glyburide-metformin', 'glipizide-metformin', 'glimepiride-pioglitazone', 'metformin-rosiglitazone', 'metformin-pioglitazone', 'change', 'diabetesMed', 'readmitted', 'diabetic']\n",
      "processed data shape: (69973, 43)\n"
     ]
    }
   ],
   "source": [
    "df,y,labl= get_data('diabetic_data.csv',labelEncode=True, skewness=True)"
   ]
  },
  {
   "cell_type": "markdown",
   "metadata": {},
   "source": [
    "#### Full Logistic Model"
   ]
  },
  {
   "cell_type": "code",
   "execution_count": 28,
   "metadata": {},
   "outputs": [
    {
     "name": "stdout",
     "output_type": "stream",
     "text": [
      "(55978, 43) (13995, 43)\n"
     ]
    },
    {
     "data": {
      "text/plain": [
       "LogisticRegression(C=0.5, class_weight='balanced', dual=False,\n",
       "                   fit_intercept=True, intercept_scaling=1, l1_ratio=None,\n",
       "                   max_iter=1000, multi_class='warn', n_jobs=-1, penalty='l2',\n",
       "                   random_state=42, solver='saga', tol=0.0001, verbose=0,\n",
       "                   warm_start=False)"
      ]
     },
     "execution_count": 28,
     "metadata": {},
     "output_type": "execute_result"
    }
   ],
   "source": [
    "# Full model\n",
    "\n",
    "X=df#[['discharge_disposition_id','number_inpatient','time_in_hospital','number_diagnoses','num_lab_procedures']]\n",
    "X_train, X_test, y_train, y_test = ms.train_test_split(X, y, shuffle=True, test_size=0.2, random_state=42)\n",
    "\n",
    "print(X_train.shape, X_test.shape)\n",
    "\n",
    "enc = OneHotEncoder(categories='auto', drop='first', sparse=False)\n",
    "enc.fit(X)\n",
    "\n",
    "lm_full = LogisticRegression(solver='saga', class_weight='balanced',max_iter=1000, C=.5, penalty='l2', n_jobs=-1, random_state=42)\n",
    "lm_full.fit(enc.transform(X_train), y_train)"
   ]
  },
  {
   "cell_type": "code",
   "execution_count": 11,
   "metadata": {},
   "outputs": [
    {
     "ename": "MemoryError",
     "evalue": "",
     "output_type": "error",
     "traceback": [
      "\u001b[1;31m---------------------------------------------------------------------------\u001b[0m",
      "\u001b[1;31mMemoryError\u001b[0m                               Traceback (most recent call last)",
      "\u001b[1;32m<ipython-input-11-b3df187cd614>\u001b[0m in \u001b[0;36m<module>\u001b[1;34m\u001b[0m\n\u001b[0;32m      1\u001b[0m \u001b[0mlm_gridSearch\u001b[0m \u001b[1;33m=\u001b[0m \u001b[0mms\u001b[0m\u001b[1;33m.\u001b[0m\u001b[0mGridSearchCV\u001b[0m\u001b[1;33m(\u001b[0m\u001b[0mlm_full\u001b[0m\u001b[1;33m,\u001b[0m \u001b[1;33m{\u001b[0m\u001b[1;34m'C'\u001b[0m\u001b[1;33m:\u001b[0m\u001b[0mnp\u001b[0m\u001b[1;33m.\u001b[0m\u001b[0mlinspace\u001b[0m\u001b[1;33m(\u001b[0m\u001b[1;36m.1\u001b[0m\u001b[1;33m,\u001b[0m\u001b[1;36m.9\u001b[0m\u001b[1;33m,\u001b[0m\u001b[1;36m9\u001b[0m\u001b[1;33m)\u001b[0m\u001b[1;33m}\u001b[0m\u001b[1;33m,\u001b[0m \u001b[0mcv\u001b[0m\u001b[1;33m=\u001b[0m\u001b[1;36m3\u001b[0m\u001b[1;33m,\u001b[0m \u001b[0mscoring\u001b[0m\u001b[1;33m=\u001b[0m\u001b[1;34m'roc_auc'\u001b[0m\u001b[1;33m)\u001b[0m\u001b[1;33m\u001b[0m\u001b[1;33m\u001b[0m\u001b[0m\n\u001b[1;32m----> 2\u001b[1;33m \u001b[0mlm_gridSearch\u001b[0m\u001b[1;33m.\u001b[0m\u001b[0mfit\u001b[0m\u001b[1;33m(\u001b[0m\u001b[0menc\u001b[0m\u001b[1;33m.\u001b[0m\u001b[0mtransform\u001b[0m\u001b[1;33m(\u001b[0m\u001b[0mX_train\u001b[0m\u001b[1;33m)\u001b[0m\u001b[1;33m,\u001b[0m \u001b[0my_train\u001b[0m\u001b[1;33m)\u001b[0m\u001b[1;33m\u001b[0m\u001b[1;33m\u001b[0m\u001b[0m\n\u001b[0m\u001b[0;32m      3\u001b[0m \u001b[1;33m\u001b[0m\u001b[0m\n\u001b[0;32m      4\u001b[0m \u001b[0mlm_full\u001b[0m \u001b[1;33m=\u001b[0m \u001b[0mlm_gridSearch\u001b[0m\u001b[1;33m.\u001b[0m\u001b[0mbest_estimator_\u001b[0m\u001b[1;33m\u001b[0m\u001b[1;33m\u001b[0m\u001b[0m\n\u001b[0;32m      5\u001b[0m \u001b[0mprint\u001b[0m\u001b[1;33m(\u001b[0m\u001b[0mlm_full\u001b[0m\u001b[1;33m)\u001b[0m\u001b[1;33m\u001b[0m\u001b[1;33m\u001b[0m\u001b[0m\n",
      "\u001b[1;32m~\\Anaconda3\\lib\\site-packages\\sklearn\\preprocessing\\_encoders.py\u001b[0m in \u001b[0;36mtransform\u001b[1;34m(self, X)\u001b[0m\n\u001b[0;32m    729\u001b[0m                                        copy=True)\n\u001b[0;32m    730\u001b[0m         \u001b[1;32melse\u001b[0m\u001b[1;33m:\u001b[0m\u001b[1;33m\u001b[0m\u001b[1;33m\u001b[0m\u001b[0m\n\u001b[1;32m--> 731\u001b[1;33m             \u001b[1;32mreturn\u001b[0m \u001b[0mself\u001b[0m\u001b[1;33m.\u001b[0m\u001b[0m_transform_new\u001b[0m\u001b[1;33m(\u001b[0m\u001b[0mX\u001b[0m\u001b[1;33m)\u001b[0m\u001b[1;33m\u001b[0m\u001b[1;33m\u001b[0m\u001b[0m\n\u001b[0m\u001b[0;32m    732\u001b[0m \u001b[1;33m\u001b[0m\u001b[0m\n\u001b[0;32m    733\u001b[0m     \u001b[1;32mdef\u001b[0m \u001b[0minverse_transform\u001b[0m\u001b[1;33m(\u001b[0m\u001b[0mself\u001b[0m\u001b[1;33m,\u001b[0m \u001b[0mX\u001b[0m\u001b[1;33m)\u001b[0m\u001b[1;33m:\u001b[0m\u001b[1;33m\u001b[0m\u001b[1;33m\u001b[0m\u001b[0m\n",
      "\u001b[1;32m~\\Anaconda3\\lib\\site-packages\\sklearn\\preprocessing\\_encoders.py\u001b[0m in \u001b[0;36m_transform_new\u001b[1;34m(self, X)\u001b[0m\n\u001b[0;32m    706\u001b[0m                                 dtype=self.dtype)\n\u001b[0;32m    707\u001b[0m         \u001b[1;32mif\u001b[0m \u001b[1;32mnot\u001b[0m \u001b[0mself\u001b[0m\u001b[1;33m.\u001b[0m\u001b[0msparse\u001b[0m\u001b[1;33m:\u001b[0m\u001b[1;33m\u001b[0m\u001b[1;33m\u001b[0m\u001b[0m\n\u001b[1;32m--> 708\u001b[1;33m             \u001b[1;32mreturn\u001b[0m \u001b[0mout\u001b[0m\u001b[1;33m.\u001b[0m\u001b[0mtoarray\u001b[0m\u001b[1;33m(\u001b[0m\u001b[1;33m)\u001b[0m\u001b[1;33m\u001b[0m\u001b[1;33m\u001b[0m\u001b[0m\n\u001b[0m\u001b[0;32m    709\u001b[0m         \u001b[1;32melse\u001b[0m\u001b[1;33m:\u001b[0m\u001b[1;33m\u001b[0m\u001b[1;33m\u001b[0m\u001b[0m\n\u001b[0;32m    710\u001b[0m             \u001b[1;32mreturn\u001b[0m \u001b[0mout\u001b[0m\u001b[1;33m\u001b[0m\u001b[1;33m\u001b[0m\u001b[0m\n",
      "\u001b[1;32m~\\Anaconda3\\lib\\site-packages\\scipy\\sparse\\compressed.py\u001b[0m in \u001b[0;36mtoarray\u001b[1;34m(self, order, out)\u001b[0m\n\u001b[0;32m   1022\u001b[0m         \u001b[1;32mif\u001b[0m \u001b[0mout\u001b[0m \u001b[1;32mis\u001b[0m \u001b[1;32mNone\u001b[0m \u001b[1;32mand\u001b[0m \u001b[0morder\u001b[0m \u001b[1;32mis\u001b[0m \u001b[1;32mNone\u001b[0m\u001b[1;33m:\u001b[0m\u001b[1;33m\u001b[0m\u001b[1;33m\u001b[0m\u001b[0m\n\u001b[0;32m   1023\u001b[0m             \u001b[0morder\u001b[0m \u001b[1;33m=\u001b[0m \u001b[0mself\u001b[0m\u001b[1;33m.\u001b[0m\u001b[0m_swap\u001b[0m\u001b[1;33m(\u001b[0m\u001b[1;34m'cf'\u001b[0m\u001b[1;33m)\u001b[0m\u001b[1;33m[\u001b[0m\u001b[1;36m0\u001b[0m\u001b[1;33m]\u001b[0m\u001b[1;33m\u001b[0m\u001b[1;33m\u001b[0m\u001b[0m\n\u001b[1;32m-> 1024\u001b[1;33m         \u001b[0mout\u001b[0m \u001b[1;33m=\u001b[0m \u001b[0mself\u001b[0m\u001b[1;33m.\u001b[0m\u001b[0m_process_toarray_args\u001b[0m\u001b[1;33m(\u001b[0m\u001b[0morder\u001b[0m\u001b[1;33m,\u001b[0m \u001b[0mout\u001b[0m\u001b[1;33m)\u001b[0m\u001b[1;33m\u001b[0m\u001b[1;33m\u001b[0m\u001b[0m\n\u001b[0m\u001b[0;32m   1025\u001b[0m         \u001b[1;32mif\u001b[0m \u001b[1;32mnot\u001b[0m \u001b[1;33m(\u001b[0m\u001b[0mout\u001b[0m\u001b[1;33m.\u001b[0m\u001b[0mflags\u001b[0m\u001b[1;33m.\u001b[0m\u001b[0mc_contiguous\u001b[0m \u001b[1;32mor\u001b[0m \u001b[0mout\u001b[0m\u001b[1;33m.\u001b[0m\u001b[0mflags\u001b[0m\u001b[1;33m.\u001b[0m\u001b[0mf_contiguous\u001b[0m\u001b[1;33m)\u001b[0m\u001b[1;33m:\u001b[0m\u001b[1;33m\u001b[0m\u001b[1;33m\u001b[0m\u001b[0m\n\u001b[0;32m   1026\u001b[0m             \u001b[1;32mraise\u001b[0m \u001b[0mValueError\u001b[0m\u001b[1;33m(\u001b[0m\u001b[1;34m'Output array must be C or F contiguous'\u001b[0m\u001b[1;33m)\u001b[0m\u001b[1;33m\u001b[0m\u001b[1;33m\u001b[0m\u001b[0m\n",
      "\u001b[1;32m~\\Anaconda3\\lib\\site-packages\\scipy\\sparse\\base.py\u001b[0m in \u001b[0;36m_process_toarray_args\u001b[1;34m(self, order, out)\u001b[0m\n\u001b[0;32m   1184\u001b[0m             \u001b[1;32mreturn\u001b[0m \u001b[0mout\u001b[0m\u001b[1;33m\u001b[0m\u001b[1;33m\u001b[0m\u001b[0m\n\u001b[0;32m   1185\u001b[0m         \u001b[1;32melse\u001b[0m\u001b[1;33m:\u001b[0m\u001b[1;33m\u001b[0m\u001b[1;33m\u001b[0m\u001b[0m\n\u001b[1;32m-> 1186\u001b[1;33m             \u001b[1;32mreturn\u001b[0m \u001b[0mnp\u001b[0m\u001b[1;33m.\u001b[0m\u001b[0mzeros\u001b[0m\u001b[1;33m(\u001b[0m\u001b[0mself\u001b[0m\u001b[1;33m.\u001b[0m\u001b[0mshape\u001b[0m\u001b[1;33m,\u001b[0m \u001b[0mdtype\u001b[0m\u001b[1;33m=\u001b[0m\u001b[0mself\u001b[0m\u001b[1;33m.\u001b[0m\u001b[0mdtype\u001b[0m\u001b[1;33m,\u001b[0m \u001b[0morder\u001b[0m\u001b[1;33m=\u001b[0m\u001b[0morder\u001b[0m\u001b[1;33m)\u001b[0m\u001b[1;33m\u001b[0m\u001b[1;33m\u001b[0m\u001b[0m\n\u001b[0m\u001b[0;32m   1187\u001b[0m \u001b[1;33m\u001b[0m\u001b[0m\n\u001b[0;32m   1188\u001b[0m \u001b[1;33m\u001b[0m\u001b[0m\n",
      "\u001b[1;31mMemoryError\u001b[0m: "
     ]
    }
   ],
   "source": [
    "lm_gridSearch = ms.GridSearchCV(lm_full, {'C':np.linspace(.1,.9,9)}, cv=3, scoring='roc_auc')\n",
    "lm_gridSearch.fit(enc.transform(X_train), y_train)\n",
    "\n",
    "lm_full = lm_gridSearch.best_estimator_\n",
    "print(lm_full)"
   ]
  },
  {
   "cell_type": "code",
   "execution_count": 27,
   "metadata": {},
   "outputs": [
    {
     "name": "stdout",
     "output_type": "stream",
     "text": [
      "0.6315972915410751\n"
     ]
    }
   ],
   "source": [
    "y_proba_lm = lm_full.predict_proba(\n",
    "    enc.transform(X_test))[:, 1]\n",
    "\n",
    "y_pred_lm = lm_full.predict(enc.transform(X_test))\n",
    "\n",
    "fpr_lm, tpr_lm, _ = roc_curve(y_test, y_proba_lm)\n",
    "auc_lm = auc(fpr_lm, tpr_lm)\n",
    "print(auc_lm)"
   ]
  },
  {
   "cell_type": "code",
   "execution_count": 27,
   "metadata": {},
   "outputs": [
    {
     "data": {
      "text/plain": [
       "Text(0.5, 1.0, 'LR Model Coeficients')"
      ]
     },
     "execution_count": 27,
     "metadata": {},
     "output_type": "execute_result"
    },
    {
     "data": {
      "image/png": "[encoded data removed]",
      "text/plain": [
       "<Figure size 576x360 with 1 Axes>"
      ]
     },
     "metadata": {
      "needs_background": "light"
     },
     "output_type": "display_data"
    }
   ],
   "source": [
    "coefs = map_coef(lm_full, enc, X_train.columns, inverse_log=True)\n",
    "pd.Series(coefs).sort_values().plot(kind='barh')\n",
    "plt.title('LR Model Coeficients')"
   ]
  },
  {
   "cell_type": "code",
   "execution_count": 40,
   "metadata": {},
   "outputs": [
    {
     "name": "stdout",
     "output_type": "stream",
     "text": [
      "              precision    recall  f1-score   support\n",
      "\n",
      "           0       0.93      0.68      0.78     12712\n",
      "           1       0.14      0.51      0.21      1283\n",
      "\n",
      "    accuracy                           0.66     13995\n",
      "   macro avg       0.53      0.59      0.50     13995\n",
      "weighted avg       0.86      0.66      0.73     13995\n",
      "\n"
     ]
    }
   ],
   "source": [
    "print(classification_report(y_test, y_pred_lm))"
   ]
  },
  {
   "cell_type": "code",
   "execution_count": 41,
   "metadata": {},
   "outputs": [
    {
     "data": {
      "text/plain": [
       "(array([ 124.,  865., 2362., 3142., 2926., 2205., 1244.,  737.,  307.,\n",
       "          83.]),\n",
       " array([0.05649734, 0.14647576, 0.23645419, 0.32643262, 0.41641104,\n",
       "        0.50638947, 0.5963679 , 0.68634632, 0.77632475, 0.86630318,\n",
       "        0.95628161]),\n",
       " <a list of 10 Patch objects>)"
      ]
     },
     "execution_count": 41,
     "metadata": {},
     "output_type": "execute_result"
    },
    {
     "data": {
      "image/png": "[encoded data removed]",
      "text/plain": [
       "<Figure size 576x360 with 1 Axes>"
      ]
     },
     "metadata": {
      "needs_background": "light"
     },
     "output_type": "display_data"
    }
   ],
   "source": [
    "plt.hist(y_proba_lm, bins=10)"
   ]
  },
  {
   "cell_type": "code",
   "execution_count": 42,
   "metadata": {
    "scrolled": true
   },
   "outputs": [
    {
     "data": {
      "text/html": [
       "<div>\n",
       "<style scoped>\n",
       "    .dataframe tbody tr th:only-of-type {\n",
       "        vertical-align: middle;\n",
       "    }\n",
       "\n",
       "    .dataframe tbody tr th {\n",
       "        vertical-align: top;\n",
       "    }\n",
       "\n",
       "    .dataframe thead th {\n",
       "        text-align: right;\n",
       "    }\n",
       "</style>\n",
       "<table border=\"1\" class=\"dataframe\">\n",
       "  <thead>\n",
       "    <tr style=\"text-align: right;\">\n",
       "      <th></th>\n",
       "      <th>quantile</th>\n",
       "      <th>pop</th>\n",
       "      <th>readmitted</th>\n",
       "      <th>min_proba</th>\n",
       "      <th>max_proba</th>\n",
       "      <th>readmit_pct</th>\n",
       "      <th>avg_readmit</th>\n",
       "      <th>lift</th>\n",
       "    </tr>\n",
       "  </thead>\n",
       "  <tbody>\n",
       "    <tr>\n",
       "      <th>0</th>\n",
       "      <td>0</td>\n",
       "      <td>1399</td>\n",
       "      <td>59</td>\n",
       "      <td>0.056497</td>\n",
       "      <td>0.258109</td>\n",
       "      <td>0.004216</td>\n",
       "      <td>0.091676</td>\n",
       "      <td>0.459860</td>\n",
       "    </tr>\n",
       "    <tr>\n",
       "      <th>1</th>\n",
       "      <td>1</td>\n",
       "      <td>1400</td>\n",
       "      <td>84</td>\n",
       "      <td>0.258126</td>\n",
       "      <td>0.309736</td>\n",
       "      <td>0.006002</td>\n",
       "      <td>0.091676</td>\n",
       "      <td>0.654716</td>\n",
       "    </tr>\n",
       "    <tr>\n",
       "      <th>2</th>\n",
       "      <td>2</td>\n",
       "      <td>1399</td>\n",
       "      <td>76</td>\n",
       "      <td>0.309775</td>\n",
       "      <td>0.352355</td>\n",
       "      <td>0.005431</td>\n",
       "      <td>0.091676</td>\n",
       "      <td>0.592362</td>\n",
       "    </tr>\n",
       "    <tr>\n",
       "      <th>3</th>\n",
       "      <td>3</td>\n",
       "      <td>1400</td>\n",
       "      <td>90</td>\n",
       "      <td>0.352410</td>\n",
       "      <td>0.392216</td>\n",
       "      <td>0.006431</td>\n",
       "      <td>0.091676</td>\n",
       "      <td>0.701481</td>\n",
       "    </tr>\n",
       "    <tr>\n",
       "      <th>4</th>\n",
       "      <td>4</td>\n",
       "      <td>1399</td>\n",
       "      <td>120</td>\n",
       "      <td>0.392243</td>\n",
       "      <td>0.431593</td>\n",
       "      <td>0.008574</td>\n",
       "      <td>0.091676</td>\n",
       "      <td>0.935308</td>\n",
       "    </tr>\n",
       "    <tr>\n",
       "      <th>5</th>\n",
       "      <td>5</td>\n",
       "      <td>1400</td>\n",
       "      <td>121</td>\n",
       "      <td>0.431672</td>\n",
       "      <td>0.473250</td>\n",
       "      <td>0.008646</td>\n",
       "      <td>0.091676</td>\n",
       "      <td>0.943102</td>\n",
       "    </tr>\n",
       "    <tr>\n",
       "      <th>6</th>\n",
       "      <td>6</td>\n",
       "      <td>1399</td>\n",
       "      <td>131</td>\n",
       "      <td>0.473295</td>\n",
       "      <td>0.519609</td>\n",
       "      <td>0.009360</td>\n",
       "      <td>0.091676</td>\n",
       "      <td>1.021044</td>\n",
       "    </tr>\n",
       "    <tr>\n",
       "      <th>7</th>\n",
       "      <td>7</td>\n",
       "      <td>1400</td>\n",
       "      <td>152</td>\n",
       "      <td>0.519630</td>\n",
       "      <td>0.576543</td>\n",
       "      <td>0.010861</td>\n",
       "      <td>0.091676</td>\n",
       "      <td>1.184723</td>\n",
       "    </tr>\n",
       "    <tr>\n",
       "      <th>8</th>\n",
       "      <td>8</td>\n",
       "      <td>1399</td>\n",
       "      <td>176</td>\n",
       "      <td>0.576574</td>\n",
       "      <td>0.658641</td>\n",
       "      <td>0.012576</td>\n",
       "      <td>0.091676</td>\n",
       "      <td>1.371785</td>\n",
       "    </tr>\n",
       "    <tr>\n",
       "      <th>9</th>\n",
       "      <td>9</td>\n",
       "      <td>1400</td>\n",
       "      <td>274</td>\n",
       "      <td>0.658755</td>\n",
       "      <td>0.956282</td>\n",
       "      <td>0.019578</td>\n",
       "      <td>0.091676</td>\n",
       "      <td>2.135620</td>\n",
       "    </tr>\n",
       "  </tbody>\n",
       "</table>\n",
       "</div>"
      ],
      "text/plain": [
       "   quantile   pop  readmitted  min_proba  max_proba  readmit_pct  avg_readmit  \\\n",
       "0         0  1399          59   0.056497   0.258109     0.004216     0.091676   \n",
       "1         1  1400          84   0.258126   0.309736     0.006002     0.091676   \n",
       "2         2  1399          76   0.309775   0.352355     0.005431     0.091676   \n",
       "3         3  1400          90   0.352410   0.392216     0.006431     0.091676   \n",
       "4         4  1399         120   0.392243   0.431593     0.008574     0.091676   \n",
       "5         5  1400         121   0.431672   0.473250     0.008646     0.091676   \n",
       "6         6  1399         131   0.473295   0.519609     0.009360     0.091676   \n",
       "7         7  1400         152   0.519630   0.576543     0.010861     0.091676   \n",
       "8         8  1399         176   0.576574   0.658641     0.012576     0.091676   \n",
       "9         9  1400         274   0.658755   0.956282     0.019578     0.091676   \n",
       "\n",
       "       lift  \n",
       "0  0.459860  \n",
       "1  0.654716  \n",
       "2  0.592362  \n",
       "3  0.701481  \n",
       "4  0.935308  \n",
       "5  0.943102  \n",
       "6  1.021044  \n",
       "7  1.184723  \n",
       "8  1.371785  \n",
       "9  2.135620  "
      ]
     },
     "execution_count": 42,
     "metadata": {},
     "output_type": "execute_result"
    }
   ],
   "source": [
    "result = metrics_table(y_test, y_proba_lm)\n",
    "result"
   ]
  },
  {
   "cell_type": "code",
   "execution_count": 49,
   "metadata": {},
   "outputs": [
    {
     "data": {
      "text/plain": [
       "[7, 8, 9]"
      ]
     },
     "execution_count": 49,
     "metadata": {},
     "output_type": "execute_result"
    }
   ],
   "source": [
    "list(range(n,10))"
   ]
  },
  {
   "cell_type": "code",
   "execution_count": 50,
   "metadata": {},
   "outputs": [
    {
     "data": {
      "text/html": [
       "<div>\n",
       "<style scoped>\n",
       "    .dataframe tbody tr th:only-of-type {\n",
       "        vertical-align: middle;\n",
       "    }\n",
       "\n",
       "    .dataframe tbody tr th {\n",
       "        vertical-align: top;\n",
       "    }\n",
       "\n",
       "    .dataframe thead th {\n",
       "        text-align: right;\n",
       "    }\n",
       "</style>\n",
       "<table border=\"1\" class=\"dataframe\">\n",
       "  <thead>\n",
       "    <tr style=\"text-align: right;\">\n",
       "      <th></th>\n",
       "      <th>quantile</th>\n",
       "      <th>pop</th>\n",
       "      <th>readmitted</th>\n",
       "      <th>min_proba</th>\n",
       "      <th>max_proba</th>\n",
       "      <th>readmit_pct</th>\n",
       "      <th>avg_readmit</th>\n",
       "      <th>lift</th>\n",
       "    </tr>\n",
       "  </thead>\n",
       "  <tbody>\n",
       "    <tr>\n",
       "      <th>0</th>\n",
       "      <td>0</td>\n",
       "      <td>1399</td>\n",
       "      <td>59</td>\n",
       "      <td>0.056497</td>\n",
       "      <td>0.258109</td>\n",
       "      <td>0.004216</td>\n",
       "      <td>0.091676</td>\n",
       "      <td>0.459860</td>\n",
       "    </tr>\n",
       "    <tr>\n",
       "      <th>1</th>\n",
       "      <td>1</td>\n",
       "      <td>1400</td>\n",
       "      <td>84</td>\n",
       "      <td>0.258126</td>\n",
       "      <td>0.309736</td>\n",
       "      <td>0.006002</td>\n",
       "      <td>0.091676</td>\n",
       "      <td>0.654716</td>\n",
       "    </tr>\n",
       "    <tr>\n",
       "      <th>2</th>\n",
       "      <td>2</td>\n",
       "      <td>1399</td>\n",
       "      <td>76</td>\n",
       "      <td>0.309775</td>\n",
       "      <td>0.352355</td>\n",
       "      <td>0.005431</td>\n",
       "      <td>0.091676</td>\n",
       "      <td>0.592362</td>\n",
       "    </tr>\n",
       "    <tr>\n",
       "      <th>3</th>\n",
       "      <td>3</td>\n",
       "      <td>1400</td>\n",
       "      <td>90</td>\n",
       "      <td>0.352410</td>\n",
       "      <td>0.392216</td>\n",
       "      <td>0.006431</td>\n",
       "      <td>0.091676</td>\n",
       "      <td>0.701481</td>\n",
       "    </tr>\n",
       "    <tr>\n",
       "      <th>4</th>\n",
       "      <td>4</td>\n",
       "      <td>1399</td>\n",
       "      <td>120</td>\n",
       "      <td>0.392243</td>\n",
       "      <td>0.431593</td>\n",
       "      <td>0.008574</td>\n",
       "      <td>0.091676</td>\n",
       "      <td>0.935308</td>\n",
       "    </tr>\n",
       "    <tr>\n",
       "      <th>5</th>\n",
       "      <td>5</td>\n",
       "      <td>1400</td>\n",
       "      <td>121</td>\n",
       "      <td>0.431672</td>\n",
       "      <td>0.473250</td>\n",
       "      <td>0.008646</td>\n",
       "      <td>0.091676</td>\n",
       "      <td>0.943102</td>\n",
       "    </tr>\n",
       "    <tr>\n",
       "      <th>6</th>\n",
       "      <td>6</td>\n",
       "      <td>1399</td>\n",
       "      <td>131</td>\n",
       "      <td>0.473295</td>\n",
       "      <td>0.519609</td>\n",
       "      <td>0.009360</td>\n",
       "      <td>0.091676</td>\n",
       "      <td>1.021044</td>\n",
       "    </tr>\n",
       "    <tr>\n",
       "      <th>7</th>\n",
       "      <td>7</td>\n",
       "      <td>1400</td>\n",
       "      <td>152</td>\n",
       "      <td>0.519630</td>\n",
       "      <td>0.576543</td>\n",
       "      <td>0.010861</td>\n",
       "      <td>0.091676</td>\n",
       "      <td>1.184723</td>\n",
       "    </tr>\n",
       "    <tr>\n",
       "      <th>8</th>\n",
       "      <td>8</td>\n",
       "      <td>1399</td>\n",
       "      <td>176</td>\n",
       "      <td>0.576574</td>\n",
       "      <td>0.658641</td>\n",
       "      <td>0.012576</td>\n",
       "      <td>0.091676</td>\n",
       "      <td>1.371785</td>\n",
       "    </tr>\n",
       "    <tr>\n",
       "      <th>9</th>\n",
       "      <td>9</td>\n",
       "      <td>1400</td>\n",
       "      <td>274</td>\n",
       "      <td>0.658755</td>\n",
       "      <td>0.956282</td>\n",
       "      <td>0.019578</td>\n",
       "      <td>0.091676</td>\n",
       "      <td>2.135620</td>\n",
       "    </tr>\n",
       "    <tr>\n",
       "      <th>10</th>\n",
       "      <td>7+8+9</td>\n",
       "      <td>4199</td>\n",
       "      <td>602</td>\n",
       "      <td>0.519630</td>\n",
       "      <td>0.956282</td>\n",
       "      <td>0.043015</td>\n",
       "      <td>0.091676</td>\n",
       "      <td>14.078060</td>\n",
       "    </tr>\n",
       "  </tbody>\n",
       "</table>\n",
       "</div>"
      ],
      "text/plain": [
       "   quantile   pop  readmitted  min_proba  max_proba  readmit_pct  avg_readmit  \\\n",
       "0         0  1399          59   0.056497   0.258109     0.004216     0.091676   \n",
       "1         1  1400          84   0.258126   0.309736     0.006002     0.091676   \n",
       "2         2  1399          76   0.309775   0.352355     0.005431     0.091676   \n",
       "3         3  1400          90   0.352410   0.392216     0.006431     0.091676   \n",
       "4         4  1399         120   0.392243   0.431593     0.008574     0.091676   \n",
       "5         5  1400         121   0.431672   0.473250     0.008646     0.091676   \n",
       "6         6  1399         131   0.473295   0.519609     0.009360     0.091676   \n",
       "7         7  1400         152   0.519630   0.576543     0.010861     0.091676   \n",
       "8         8  1399         176   0.576574   0.658641     0.012576     0.091676   \n",
       "9         9  1400         274   0.658755   0.956282     0.019578     0.091676   \n",
       "10    7+8+9  4199         602   0.519630   0.956282     0.043015     0.091676   \n",
       "\n",
       "         lift  \n",
       "0    0.459860  \n",
       "1    0.654716  \n",
       "2    0.592362  \n",
       "3    0.701481  \n",
       "4    0.935308  \n",
       "5    0.943102  \n",
       "6    1.021044  \n",
       "7    1.184723  \n",
       "8    1.371785  \n",
       "9    2.135620  \n",
       "10  14.078060  "
      ]
     },
     "execution_count": 50,
     "metadata": {},
     "output_type": "execute_result"
    }
   ],
   "source": [
    "result['quantile']=result['quantile'].astype(str)\n",
    "\n",
    "n=7\n",
    "quantile ='+'.join(str(x) for x in list(range(n,10)))\n",
    "readmitted = result.loc[n:,'readmitted'].sum()\n",
    "pop = result.loc[n:,'pop'].sum()\n",
    "min_proba = result.loc[n:,'min_proba'].min()\n",
    "max_proba = result.loc[n:,'max_proba'].max()\n",
    "readmit_pct = result.loc[n:,'readmit_pct'].sum()\n",
    "avg_admit_rate = result['readmitted'].sum()/result['pop'].sum()\n",
    "lift = readmit_pct/avg_admit_rate*pop/result['pop'].sum()*100\n",
    "result.append(pd.Series([quantile, pop, readmitted, min_proba, max_proba, readmit_pct, avg_admit_rate, lift],\\\n",
    "                        index=result.columns).T, ignore_index=True)\n",
    "#print(lift)"
   ]
  },
  {
   "cell_type": "code",
   "execution_count": 97,
   "metadata": {
    "scrolled": true
   },
   "outputs": [
    {
     "name": "stdout",
     "output_type": "stream",
     "text": [
      "last two quantiles groups 8+9 \n",
      "pop            2799.000000\n",
      "readmitted      452.000000\n",
      "min_proba         0.566093\n",
      "max_proba         0.945400\n",
      "readmit_pct       0.032297\n",
      "avg_readmit       0.091676\n",
      "lift              7.045986\n",
      "dtype: float64\n"
     ]
    }
   ],
   "source": [
    "print('last two quantiles groups 8+9 \\n{}'.format(regroup_lift(result,8)))"
   ]
  },
  {
   "cell_type": "markdown",
   "metadata": {},
   "source": [
    "#### Reduced Model"
   ]
  },
  {
   "cell_type": "code",
   "execution_count": 51,
   "metadata": {},
   "outputs": [
    {
     "name": "stdout",
     "output_type": "stream",
     "text": [
      "(55978, 5) (13995, 5)\n"
     ]
    },
    {
     "data": {
      "text/plain": [
       "LogisticRegression(C=0.1, class_weight='balanced', dual=False,\n",
       "                   fit_intercept=True, intercept_scaling=1, l1_ratio=None,\n",
       "                   max_iter=1000, multi_class='warn', n_jobs=-1, penalty='l2',\n",
       "                   random_state=42, solver='saga', tol=0.0001, verbose=0,\n",
       "                   warm_start=False)"
      ]
     },
     "execution_count": 51,
     "metadata": {},
     "output_type": "execute_result"
    }
   ],
   "source": [
    "# Reduced model\n",
    "\n",
    "X=df[['discharge_disposition_id','number_inpatient','time_in_hospital','number_diagnoses','num_lab_procedures']]\n",
    "X_train, X_test, y_train, y_test = ms.train_test_split(X, y, shuffle=True, test_size=0.2, random_state=42)\n",
    "\n",
    "print(X_train.shape, X_test.shape)\n",
    "\n",
    "enc = OneHotEncoder(categories='auto', sparse=False)\n",
    "enc.fit(X)\n",
    "\n",
    "lm = LogisticRegression(solver='saga', class_weight='balanced',max_iter=1000, C=.1, penalty='l2', n_jobs=-1, random_state=42)\n",
    "lm.fit(enc.transform(X_train), y_train)"
   ]
  },
  {
   "cell_type": "code",
   "execution_count": 60,
   "metadata": {},
   "outputs": [
    {
     "name": "stdout",
     "output_type": "stream",
     "text": [
      "LogisticRegression(C=0.1, class_weight='balanced', dual=False,\n",
      "                   fit_intercept=True, intercept_scaling=1, l1_ratio=None,\n",
      "                   max_iter=1000, multi_class='warn', n_jobs=-1, penalty='l2',\n",
      "                   random_state=42, solver='saga', tol=0.0001, verbose=0,\n",
      "                   warm_start=False)\n"
     ]
    }
   ],
   "source": [
    "lm_gridSearch = ms.GridSearchCV(lm, {'C':np.linspace(.1,.9,9)}, cv=3, scoring='roc_auc', n_jobs=-1)\n",
    "lm_gridSearch.fit(enc.transform(X_train), y_train)\n",
    "\n",
    "lm = lm_gridSearch.best_estimator_\n",
    "print(lm)"
   ]
  },
  {
   "cell_type": "code",
   "execution_count": 61,
   "metadata": {},
   "outputs": [
    {
     "name": "stdout",
     "output_type": "stream",
     "text": [
      "0.622755510041512\n"
     ]
    }
   ],
   "source": [
    "y_proba_lm = lm.predict_proba(\n",
    "    enc.transform(X_test))[:, 1]\n",
    "\n",
    "y_pred_lm = lm.predict(enc.transform(X_test))\n",
    "\n",
    "fpr_lm, tpr_lm, _ = roc_curve(y_test, y_proba_lm)\n",
    "auc_lm = auc(fpr_lm, tpr_lm)\n",
    "print(auc_lm)"
   ]
  },
  {
   "cell_type": "code",
   "execution_count": 62,
   "metadata": {},
   "outputs": [
    {
     "data": {
      "text/plain": [
       "Text(0.5, 1.0, 'LR Model Coeficients')"
      ]
     },
     "execution_count": 62,
     "metadata": {},
     "output_type": "execute_result"
    },
    {
     "data": {
      "image/png": "[encoded data removed]",
      "text/plain": [
       "<Figure size 576x360 with 1 Axes>"
      ]
     },
     "metadata": {
      "needs_background": "light"
     },
     "output_type": "display_data"
    }
   ],
   "source": [
    "coefs = map_coef(lm, enc, X_train.columns, inverse_log=True)\n",
    "pd.Series(coefs).sort_values().plot(kind='barh')\n",
    "plt.title('LR Model Coeficients')"
   ]
  },
  {
   "cell_type": "code",
   "execution_count": 63,
   "metadata": {},
   "outputs": [
    {
     "name": "stdout",
     "output_type": "stream",
     "text": [
      "              precision    recall  f1-score   support\n",
      "\n",
      "           0       0.93      0.69      0.79     12712\n",
      "           1       0.14      0.49      0.21      1283\n",
      "\n",
      "    accuracy                           0.67     13995\n",
      "   macro avg       0.53      0.59      0.50     13995\n",
      "weighted avg       0.86      0.67      0.74     13995\n",
      "\n"
     ]
    }
   ],
   "source": [
    "print(classification_report(y_test, y_pred_lm))"
   ]
  },
  {
   "cell_type": "code",
   "execution_count": 64,
   "metadata": {},
   "outputs": [
    {
     "data": {
      "text/plain": [
       "(array([  63.,  590., 3932., 4220., 2182., 1589.,  754.,  440.,  197.,\n",
       "          28.]),\n",
       " array([0.17050311, 0.24799284, 0.32548256, 0.40297229, 0.48046201,\n",
       "        0.55795174, 0.63544146, 0.71293119, 0.79042091, 0.86791064,\n",
       "        0.94540036]),\n",
       " <a list of 10 Patch objects>)"
      ]
     },
     "execution_count": 64,
     "metadata": {},
     "output_type": "execute_result"
    },
    {
     "data": {
      "image/png": "[encoded data removed]",
      "text/plain": [
       "<Figure size 576x360 with 1 Axes>"
      ]
     },
     "metadata": {
      "needs_background": "light"
     },
     "output_type": "display_data"
    }
   ],
   "source": [
    "plt.hist(y_proba_lm, bins=10)"
   ]
  },
  {
   "cell_type": "code",
   "execution_count": 73,
   "metadata": {
    "scrolled": true
   },
   "outputs": [
    {
     "data": {
      "text/html": [
       "<div>\n",
       "<style scoped>\n",
       "    .dataframe tbody tr th:only-of-type {\n",
       "        vertical-align: middle;\n",
       "    }\n",
       "\n",
       "    .dataframe tbody tr th {\n",
       "        vertical-align: top;\n",
       "    }\n",
       "\n",
       "    .dataframe thead th {\n",
       "        text-align: right;\n",
       "    }\n",
       "</style>\n",
       "<table border=\"1\" class=\"dataframe\">\n",
       "  <thead>\n",
       "    <tr style=\"text-align: right;\">\n",
       "      <th></th>\n",
       "      <th>quantile</th>\n",
       "      <th>pop</th>\n",
       "      <th>readmitted</th>\n",
       "      <th>min_proba</th>\n",
       "      <th>max_proba</th>\n",
       "      <th>readmit_pct</th>\n",
       "      <th>avg_readmit</th>\n",
       "      <th>lift</th>\n",
       "    </tr>\n",
       "  </thead>\n",
       "  <tbody>\n",
       "    <tr>\n",
       "      <th>0</th>\n",
       "      <td>0</td>\n",
       "      <td>1399</td>\n",
       "      <td>75</td>\n",
       "      <td>0.170503</td>\n",
       "      <td>0.351486</td>\n",
       "      <td>0.005359</td>\n",
       "      <td>0.091676</td>\n",
       "      <td>0.584567</td>\n",
       "    </tr>\n",
       "    <tr>\n",
       "      <th>1</th>\n",
       "      <td>1</td>\n",
       "      <td>1400</td>\n",
       "      <td>88</td>\n",
       "      <td>0.351486</td>\n",
       "      <td>0.378069</td>\n",
       "      <td>0.006288</td>\n",
       "      <td>0.091676</td>\n",
       "      <td>0.685892</td>\n",
       "    </tr>\n",
       "    <tr>\n",
       "      <th>2</th>\n",
       "      <td>2</td>\n",
       "      <td>1399</td>\n",
       "      <td>79</td>\n",
       "      <td>0.378069</td>\n",
       "      <td>0.398746</td>\n",
       "      <td>0.005645</td>\n",
       "      <td>0.091676</td>\n",
       "      <td>0.615744</td>\n",
       "    </tr>\n",
       "    <tr>\n",
       "      <th>3</th>\n",
       "      <td>3</td>\n",
       "      <td>1400</td>\n",
       "      <td>96</td>\n",
       "      <td>0.398819</td>\n",
       "      <td>0.416807</td>\n",
       "      <td>0.006860</td>\n",
       "      <td>0.091676</td>\n",
       "      <td>0.748246</td>\n",
       "    </tr>\n",
       "    <tr>\n",
       "      <th>4</th>\n",
       "      <td>4</td>\n",
       "      <td>1399</td>\n",
       "      <td>95</td>\n",
       "      <td>0.416810</td>\n",
       "      <td>0.437794</td>\n",
       "      <td>0.006788</td>\n",
       "      <td>0.091676</td>\n",
       "      <td>0.740452</td>\n",
       "    </tr>\n",
       "    <tr>\n",
       "      <th>5</th>\n",
       "      <td>5</td>\n",
       "      <td>1400</td>\n",
       "      <td>128</td>\n",
       "      <td>0.437794</td>\n",
       "      <td>0.469690</td>\n",
       "      <td>0.009146</td>\n",
       "      <td>0.091676</td>\n",
       "      <td>0.997662</td>\n",
       "    </tr>\n",
       "    <tr>\n",
       "      <th>6</th>\n",
       "      <td>6</td>\n",
       "      <td>1399</td>\n",
       "      <td>136</td>\n",
       "      <td>0.469695</td>\n",
       "      <td>0.513812</td>\n",
       "      <td>0.009718</td>\n",
       "      <td>0.091676</td>\n",
       "      <td>1.060016</td>\n",
       "    </tr>\n",
       "    <tr>\n",
       "      <th>7</th>\n",
       "      <td>7</td>\n",
       "      <td>1400</td>\n",
       "      <td>134</td>\n",
       "      <td>0.513832</td>\n",
       "      <td>0.566089</td>\n",
       "      <td>0.009575</td>\n",
       "      <td>0.091676</td>\n",
       "      <td>1.044427</td>\n",
       "    </tr>\n",
       "    <tr>\n",
       "      <th>8</th>\n",
       "      <td>8</td>\n",
       "      <td>1399</td>\n",
       "      <td>187</td>\n",
       "      <td>0.566093</td>\n",
       "      <td>0.636644</td>\n",
       "      <td>0.013362</td>\n",
       "      <td>0.091676</td>\n",
       "      <td>1.457521</td>\n",
       "    </tr>\n",
       "    <tr>\n",
       "      <th>9</th>\n",
       "      <td>9</td>\n",
       "      <td>1400</td>\n",
       "      <td>265</td>\n",
       "      <td>0.636666</td>\n",
       "      <td>0.945400</td>\n",
       "      <td>0.018935</td>\n",
       "      <td>0.091676</td>\n",
       "      <td>2.065472</td>\n",
       "    </tr>\n",
       "  </tbody>\n",
       "</table>\n",
       "</div>"
      ],
      "text/plain": [
       "   quantile   pop  readmitted  min_proba  max_proba  readmit_pct  avg_readmit  \\\n",
       "0         0  1399          75   0.170503   0.351486     0.005359     0.091676   \n",
       "1         1  1400          88   0.351486   0.378069     0.006288     0.091676   \n",
       "2         2  1399          79   0.378069   0.398746     0.005645     0.091676   \n",
       "3         3  1400          96   0.398819   0.416807     0.006860     0.091676   \n",
       "4         4  1399          95   0.416810   0.437794     0.006788     0.091676   \n",
       "5         5  1400         128   0.437794   0.469690     0.009146     0.091676   \n",
       "6         6  1399         136   0.469695   0.513812     0.009718     0.091676   \n",
       "7         7  1400         134   0.513832   0.566089     0.009575     0.091676   \n",
       "8         8  1399         187   0.566093   0.636644     0.013362     0.091676   \n",
       "9         9  1400         265   0.636666   0.945400     0.018935     0.091676   \n",
       "\n",
       "       lift  \n",
       "0  0.584567  \n",
       "1  0.685892  \n",
       "2  0.615744  \n",
       "3  0.748246  \n",
       "4  0.740452  \n",
       "5  0.997662  \n",
       "6  1.060016  \n",
       "7  1.044427  \n",
       "8  1.457521  \n",
       "9  2.065472  "
      ]
     },
     "execution_count": 73,
     "metadata": {},
     "output_type": "execute_result"
    }
   ],
   "source": [
    "result = metrics_table(y_test, y_proba_lm)\n",
    "result"
   ]
  },
  {
   "cell_type": "code",
   "execution_count": 94,
   "metadata": {},
   "outputs": [],
   "source": [
    "def regroup_lift(data, start_quan):\n",
    "    \n",
    "    data['quantile']=data['quantile'].astype(str)\n",
    "\n",
    "    n=start_quan\n",
    "    quantile ='+'.join(str(x) for x in list(range(n,10)))\n",
    "   # print(quantile)\n",
    "    readmitted = data.loc[n:,'readmitted'].sum()\n",
    "    pop = data.loc[n:,'pop'].sum()\n",
    "    min_proba = data.loc[n:,'min_proba'].min()\n",
    "    max_proba = data.loc[n:,'max_proba'].max()\n",
    "    readmit_pct = data.loc[n:,'readmit_pct'].sum()\n",
    "    avg_admit_rate = data['readmitted'].sum()/result['pop'].sum()\n",
    "    lift = readmit_pct/avg_admit_rate*pop/data['pop'].sum()*100\n",
    "    new_row = pd.Series([pop, readmitted, min_proba, max_proba, readmit_pct, avg_admit_rate, lift],\\\n",
    "                            index=result.columns[1:])\n",
    "    #print(new_row)\n",
    "    return new_row\n",
    "#"
   ]
  },
  {
   "cell_type": "code",
   "execution_count": 97,
   "metadata": {
    "scrolled": true
   },
   "outputs": [
    {
     "name": "stdout",
     "output_type": "stream",
     "text": [
      "last two quantiles groups 8+9 \n",
      "pop            2799.000000\n",
      "readmitted      452.000000\n",
      "min_proba         0.566093\n",
      "max_proba         0.945400\n",
      "readmit_pct       0.032297\n",
      "avg_readmit       0.091676\n",
      "lift              7.045986\n",
      "dtype: float64\n"
     ]
    }
   ],
   "source": [
    "print('last two quantiles groups 8+9 \\n{}'.format(regroup_lift(result,8)))"
   ]
  }
 ],
 "metadata": {
  "kernelspec": {
   "display_name": "Python 3",
   "language": "python",
   "name": "python3"
  },
  "language_info": {
   "codemirror_mode": {
    "name": "ipython",
    "version": 3
   },
   "file_extension": ".py",
   "mimetype": "text/x-python",
   "name": "python",
   "nbconvert_exporter": "python",
   "pygments_lexer": "ipython3",
   "version": "3.7.3"
  }
 },
 "nbformat": 4,
 "nbformat_minor": 2
}
