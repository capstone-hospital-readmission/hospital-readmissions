{
 "cells": [
  {
   "cell_type": "code",
   "execution_count": 1,
   "metadata": {
    "scrolled": true
   },
   "outputs": [],
   "source": [
    "from myData import *\n",
    "import pandas as pd\n",
    "import numpy as np\n",
    "from sklearn.metrics import roc_curve, auc\n",
    "from sklearn.preprocessing import LabelEncoder\n",
    "from sklearn import model_selection as ms\n",
    "from sklearn.linear_model import LogisticRegression\n",
    "from sklearn.ensemble import RandomForestClassifier, GradientBoostingClassifier\n",
    "from sklearn.pipeline import make_pipeline\n",
    "from sklearn.preprocessing import OneHotEncoder\n",
    "\n",
    "import warnings\n",
    "warnings.filterwarnings('ignore')\n",
    "from matplotlib import pyplot as plt\n",
    "%matplotlib inline\n"
   ]
  },
  {
   "cell_type": "code",
   "execution_count": 2,
   "metadata": {},
   "outputs": [
    {
     "name": "stdout",
     "output_type": "stream",
     "text": [
      "raw data shape (101766, 50)\n",
      "processed data shape: (70299, 48)\n"
     ]
    },
    {
     "data": {
      "text/plain": [
       "Index(['race', 'gender', 'age', 'weight', 'admission_type_id',\n",
       "       'discharge_disposition_id', 'admission_source_id', 'time_in_hospital',\n",
       "       'payer_code', 'medical_specialty', 'num_lab_procedures',\n",
       "       'num_procedures', 'num_medications', 'number_outpatient',\n",
       "       'number_emergency', 'number_inpatient', 'diag_1', 'diag_2', 'diag_3',\n",
       "       'number_diagnoses', 'max_glu_serum', 'A1Cresult', 'metformin',\n",
       "       'repaglinide', 'nateglinide', 'chlorpropamide', 'glimepiride',\n",
       "       'acetohexamide', 'glipizide', 'glyburide', 'tolbutamide',\n",
       "       'pioglitazone', 'rosiglitazone', 'acarbose', 'miglitol', 'troglitazone',\n",
       "       'tolazamide', 'examide', 'citoglipton', 'insulin',\n",
       "       'glyburide-metformin', 'glipizide-metformin',\n",
       "       'glimepiride-pioglitazone', 'metformin-rosiglitazone',\n",
       "       'metformin-pioglitazone', 'change', 'diabetesMed', 'readmitted'],\n",
       "      dtype='object')"
      ]
     },
     "execution_count": 2,
     "metadata": {},
     "output_type": "execute_result"
    }
   ],
   "source": [
    "df = get_data('diabetic_data.csv',labelEncode=True)\n",
    "df.columns\n"
   ]
  },
  {
   "cell_type": "code",
   "execution_count": 3,
   "metadata": {},
   "outputs": [
    {
     "name": "stdout",
     "output_type": "stream",
     "text": [
      "Help on function group_specialty in module myData:\n",
      "\n",
      "group_specialty(x)\n",
      "    Cardiology: 0\n",
      "    General pratice: 1\n",
      "    Internal medicine: 2\n",
      "    Surgery: 3\n",
      "    Missing: 4\n",
      "    Others: 5\n",
      "\n"
     ]
    },
    {
     "data": {
      "text/plain": [
       "<matplotlib.axes._subplots.AxesSubplot at 0xa4e1dd0>"
      ]
     },
     "execution_count": 3,
     "metadata": {},
     "output_type": "execute_result"
    },
    {
     "data": {
      "image/png": "[encoded data removed]",
      "text/plain": [
       "<Figure size 432x288 with 1 Axes>"
      ]
     },
     "metadata": {
      "needs_background": "light"
     },
     "output_type": "display_data"
    }
   ],
   "source": [
    "help(group_specialty)\n",
    "specialty_count=df['medical_specialty'].value_counts()\n",
    "#print(specialty_count)\n",
    "(df.loc[df['readmitted']==1, 'discharge_disposition_id'].value_counts()/specialty_count).plot(kind='bar')"
   ]
  },
  {
   "cell_type": "code",
   "execution_count": 4,
   "metadata": {},
   "outputs": [
    {
     "name": "stdout",
     "output_type": "stream",
     "text": [
      "Help on function group_race in module myData:\n",
      "\n",
      "group_race(x)\n",
      "    0: Caucasian, \n",
      "    1: AfricanAmerican, \n",
      "    2: missing, \n",
      "    3: others\n",
      "\n"
     ]
    },
    {
     "data": {
      "text/plain": [
       "<matplotlib.axes._subplots.AxesSubplot at 0xf78aeb0>"
      ]
     },
     "execution_count": 4,
     "metadata": {},
     "output_type": "execute_result"
    },
    {
     "data": {
      "image/png": "[encoded data removed]",
      "text/plain": [
       "<Figure size 432x288 with 1 Axes>"
      ]
     },
     "metadata": {
      "needs_background": "light"
     },
     "output_type": "display_data"
    }
   ],
   "source": [
    "help(group_race)\n",
    "race_count=df['race'].value_counts()\n",
    "#print(race_count)\n",
    "(df.loc[df['readmitted']==1, 'discharge_disposition_id'].value_counts()/race_count).plot(kind='bar')"
   ]
  },
  {
   "cell_type": "code",
   "execution_count": 5,
   "metadata": {},
   "outputs": [
    {
     "name": "stdout",
     "output_type": "stream",
     "text": [
      "Help on function group_age in module myData:\n",
      "\n",
      "group_age(x)\n",
      "    age 0-30: 0\n",
      "    age 30-60: 1\n",
      "    age 60-100: 2\n",
      "\n"
     ]
    },
    {
     "data": {
      "text/plain": [
       "<matplotlib.axes._subplots.AxesSubplot at 0xf7d6590>"
      ]
     },
     "execution_count": 5,
     "metadata": {},
     "output_type": "execute_result"
    },
    {
     "data": {
      "image/png": "[encoded data removed]",
      "text/plain": [
       "<Figure size 432x288 with 1 Axes>"
      ]
     },
     "metadata": {
      "needs_background": "light"
     },
     "output_type": "display_data"
    }
   ],
   "source": [
    "help(group_age)\n",
    "age_count=df['age'].value_counts()\n",
    "#print(age_count)\n",
    "\n",
    "# age group 2 (60-90) has the highest readmission rate, next group 3 is (90-100), but all groups are closed\n",
    "(df.loc[df['readmitted']==1, 'age'].value_counts()/age_count).plot(kind='bar')"
   ]
  },
  {
   "cell_type": "code",
   "execution_count": 6,
   "metadata": {
    "scrolled": true
   },
   "outputs": [
    {
     "name": "stdout",
     "output_type": "stream",
     "text": [
      "Help on function group_discharge in module myData:\n",
      "\n",
      "group_discharge(x)\n",
      "    0: others, \n",
      "    1: discharged to home\n",
      "\n"
     ]
    },
    {
     "data": {
      "text/plain": [
       "<matplotlib.axes._subplots.AxesSubplot at 0xf819290>"
      ]
     },
     "execution_count": 6,
     "metadata": {},
     "output_type": "execute_result"
    },
    {
     "data": {
      "image/png": "[encoded data removed]",
      "text/plain": [
       "<Figure size 432x288 with 1 Axes>"
      ]
     },
     "metadata": {
      "needs_background": "light"
     },
     "output_type": "display_data"
    }
   ],
   "source": [
    "help(group_discharge)\n",
    "discharge_count=df['discharge_disposition_id'].value_counts()\n",
    "#print(discharge_count)\n",
    "\n",
    "(df.loc[df['readmitted']==1, 'discharge_disposition_id'].value_counts()/discharge_count).plot(kind='bar')"
   ]
  },
  {
   "cell_type": "code",
   "execution_count": 7,
   "metadata": {},
   "outputs": [
    {
     "name": "stdout",
     "output_type": "stream",
     "text": [
      "Help on function group_readmitted in module myData:\n",
      "\n",
      "group_readmitted(x)\n",
      "    <30 days: 1\n",
      "    Others: 0\n",
      "\n"
     ]
    }
   ],
   "source": [
    "help(group_readmitted)"
   ]
  },
  {
   "cell_type": "code",
   "execution_count": 8,
   "metadata": {},
   "outputs": [],
   "source": [
    "\n",
    "#X = dummie\n",
    "y = df['readmitted']\n",
    "X = df.drop(columns=['readmitted'])\n",
    "X_train, X_test, y_train, y_test = ms.train_test_split(X, y, test_size=0.1, random_state=0)\n",
    "\n",
    "X_train, X_train_lr, y_train, y_train_lr = ms.train_test_split(\n",
    "    X_train, y_train, test_size=0.5)"
   ]
  },
  {
   "cell_type": "code",
   "execution_count": 9,
   "metadata": {},
   "outputs": [
    {
     "data": {
      "text/plain": [
       "0    88.344819\n",
       "1    11.655181\n",
       "Name: readmitted, dtype: float64"
      ]
     },
     "execution_count": 9,
     "metadata": {},
     "output_type": "execute_result"
    }
   ],
   "source": [
    "y_train.value_counts().apply(lambda x: 100*x/y_train.shape[0])"
   ]
  },
  {
   "cell_type": "code",
   "execution_count": 10,
   "metadata": {},
   "outputs": [
    {
     "data": {
      "text/plain": [
       "0    88.582266\n",
       "1    11.417734\n",
       "Name: readmitted, dtype: float64"
      ]
     },
     "execution_count": 10,
     "metadata": {},
     "output_type": "execute_result"
    }
   ],
   "source": [
    "y_train_lr.value_counts().apply(lambda x: 100*x/y_train_lr.shape[0])"
   ]
  },
  {
   "cell_type": "code",
   "execution_count": 11,
   "metadata": {},
   "outputs": [
    {
     "data": {
      "text/plain": [
       "0    88.349929\n",
       "1    11.650071\n",
       "Name: readmitted, dtype: float64"
      ]
     },
     "execution_count": 11,
     "metadata": {},
     "output_type": "execute_result"
    }
   ],
   "source": [
    "y_test.value_counts().apply(lambda x: 100*x/y_test.shape[0])"
   ]
  },
  {
   "cell_type": "code",
   "execution_count": 12,
   "metadata": {},
   "outputs": [
    {
     "name": "stdout",
     "output_type": "stream",
     "text": [
      "(31634, 47) (31635, 47) (7030, 47)\n"
     ]
    }
   ],
   "source": [
    "print(X_train.shape, X_train_lr.shape, X_test.shape)"
   ]
  },
  {
   "cell_type": "code",
   "execution_count": 13,
   "metadata": {},
   "outputs": [
    {
     "name": "stdout",
     "output_type": "stream",
     "text": [
      "0.667159018551709 0.6621916608231211\n"
     ]
    }
   ],
   "source": [
    "# Random Forest,  and + Logistic Regression\n",
    "\n",
    "n_estimator = 30\n",
    "rf = RandomForestClassifier(max_depth=3, n_estimators=n_estimator, random_state=42)\n",
    "rf_enc = OneHotEncoder(categories='auto')\n",
    "rf_lm = LogisticRegression(solver='saga', max_iter=1000, C=0.01, random_state=42)\n",
    "rf.fit(X_train, y_train)\n",
    "rf_enc.fit(rf.apply(X_train))\n",
    "rf_lm.fit(rf_enc.transform(rf.apply(X_train_lr)), y_train_lr)\n",
    "\n",
    "y_pred_rf = rf.predict_proba(X_test)[:, 1]\n",
    "fpr_rf, tpr_rf, _ = roc_curve(y_test, y_pred_rf)\n",
    "auc_rf = auc(fpr_rf, tpr_rf)\n",
    "\n",
    "y_pred_rf_lm = rf_lm.predict_proba(rf_enc.transform(rf.apply(X_test)))[:, 1]\n",
    "fpr_rf_lm, tpr_rf_lm, _ = roc_curve(y_test, y_pred_rf_lm)\n",
    "auc_rf_lm = auc(fpr_rf_lm, tpr_rf_lm)\n",
    "\n",
    "print(auc_rf, auc_rf_lm)"
   ]
  },
  {
   "cell_type": "code",
   "execution_count": 15,
   "metadata": {},
   "outputs": [
    {
     "name": "stdout",
     "output_type": "stream",
     "text": [
      "0.6644090627346142 0.6726727895621794\n"
     ]
    }
   ],
   "source": [
    "# Gradient Boosting, and + Logistic Regression\n",
    "\n",
    "n_estimator = 700\n",
    "grd = GradientBoostingClassifier(n_estimators=n_estimator,random_state=42)\n",
    "grd_enc = OneHotEncoder(categories='auto')\n",
    "grd_lm = LogisticRegression(solver='saga', max_iter=1000, C=0.001, random_state=42)\n",
    "grd.fit(X_train, y_train)\n",
    "grd_enc.fit(grd.apply(X_train)[:, :, 0])\n",
    "grd_lm.fit(grd_enc.transform(grd.apply(X_train_lr)[:, :, 0]), y_train_lr)\n",
    "\n",
    "y_pred_grd_lm = grd_lm.predict_proba(\n",
    "    grd_enc.transform(grd.apply(X_test)[:, :, 0]))[:, 1]\n",
    "fpr_grd_lm, tpr_grd_lm, _ = roc_curve(y_test, y_pred_grd_lm)\n",
    "auc_grd_lm = auc(fpr_grd_lm, tpr_grd_lm)\n",
    "\n",
    "y_pred_grd = grd.predict_proba(X_test)[:, 1]\n",
    "fpr_grd, tpr_grd, _ = roc_curve(y_test, y_pred_grd)\n",
    "auc_grd = auc(fpr_grd, tpr_grd)\n",
    "print(auc_grd, auc_grd_lm)"
   ]
  },
  {
   "cell_type": "code",
   "execution_count": 21,
   "metadata": {},
   "outputs": [
    {
     "name": "stdout",
     "output_type": "stream",
     "text": [
      "rf  0.6704465412402942 (3, 3, 0)\n",
      "rf + lm  0.664100519598829 (1, 3, 1)\n",
      "3 3 0\n",
      "5 40 0.001\n"
     ]
    }
   ],
   "source": [
    "# Random Forest, and + Logistic Regression search\n",
    "\n",
    "np.random.seed(10)\n",
    "max_depth_grid = list(range(2,6))\n",
    "n_estimator_grid = list(range(10, 50, 10))\n",
    "C_grid = np.logspace(-3,3,7)\n",
    "n = len(C_grid)\n",
    "m = len(n_estimator_grid)\n",
    "l = len(max_depth_grid)\n",
    "\n",
    "auc_rf_grid = np.ndarray((l, m, n))\n",
    "auc_rf_lm_grid = np.ndarray((l, m, n))\n",
    "\n",
    "rf_grid = RandomForestClassifier(random_state=42)\n",
    "rf_lm_grid = LogisticRegression(solver='saga', max_iter=1000, random_state=42)\n",
    "rf_enc_grid = OneHotEncoder(categories='auto')\n",
    "\n",
    "\n",
    "for i, max_depth in enumerate(max_depth_grid):\n",
    "    for j, n_estimator in enumerate(n_estimator_grid):\n",
    "        for k, c in enumerate(C_grid):\n",
    "            rf_grid.set_params(n_estimators=n_estimator, max_depth=max_depth)\n",
    "            rf_lm_grid.set_params(C=c)\n",
    "\n",
    "            rf_grid.fit(X_train, y_train)\n",
    "            rf_enc_grid.fit(rf_grid.apply(X_train))\n",
    "            rf_lm_grid.fit(rf_enc_grid.transform(rf_grid.apply(X_train_lr)), y_train_lr)\n",
    "\n",
    "            y_pred_rf_lm = rf_lm_grid.predict_proba(\n",
    "                rf_enc_grid.transform(rf_grid.apply(X_test)))[:, 1]\n",
    "            fpr_rf_lm, tpr_rf_lm, _ = roc_curve(y_test, y_pred_rf_lm)\n",
    "            auc_rf_lm_grid[i,j,k] = auc(fpr_rf_lm, tpr_rf_lm)\n",
    "\n",
    "            y_pred_rf = rf_grid.predict_proba(X_test)[:, 1]\n",
    "            fpr_rf, tpr_rf, _ = roc_curve(y_test, y_pred_rf)\n",
    "            auc_rf_grid[i,j,k] = auc(fpr_rf, tpr_rf)\n",
    "\n",
    "auc_rf_grid_idx = np.unravel_index(auc_rf_grid.argmax(), auc_rf_grid.shape)\n",
    "auc_rf_max = auc_rf_grid.max()\n",
    "print('rf ', auc_rf_max, auc_rf_grid_idx)\n",
    "\n",
    "auc_rf_lm_max = auc_rf_lm_grid.max()\n",
    "auc_rf_lm_grid_idx = np.unravel_index(auc_rf_lm_grid.argmax(), auc_rf_lm_grid.shape)\n",
    "print('rf + lm ', auc_rf_lm_max, auc_rf_lm_grid_idx)\n",
    "\n",
    "if auc_rf_lm_max > auc_rf_max:\n",
    "    depth_idx, estm_idx, c_idx = auc_rf_lm_grid_idx\n",
    "else:\n",
    "    depth_idx, estm_idx, c_idx = auc_rf_grid_idx\n",
    "\n",
    "print(max_depth_grid[depth_idx], n_estimator_grid[estm_idx], C_grid[c_idx])"
   ]
  },
  {
   "cell_type": "code",
   "execution_count": 22,
   "metadata": {},
   "outputs": [
    {
     "name": "stdout",
     "output_type": "stream",
     "text": [
      "0.6704465412402942 0.6624358217499419\n"
     ]
    }
   ],
   "source": [
    "# Random Forest,  and + Logistic Regression\n",
    "rf = RandomForestClassifier(max_depth=max_depth_grid[depth_idx],\\\n",
    "                            n_estimators=n_estimator_grid[estm_idx],\\\n",
    "                            random_state=42)\n",
    "rf_enc = OneHotEncoder(categories='auto')\n",
    "rf_lm = LogisticRegression(solver='saga', max_iter=1000, C=C_grid[c_idx], random_state=42)\n",
    "rf.fit(X_train, y_train)\n",
    "rf_enc.fit(rf.apply(X_train))\n",
    "rf_lm.fit(rf_enc.transform(rf.apply(X_train_lr)), y_train_lr)\n",
    "\n",
    "y_pred_rf = rf.predict_proba(X_test)[:, 1]\n",
    "fpr_rf, tpr_rf, _ = roc_curve(y_test, y_pred_rf)\n",
    "auc_rf = auc(fpr_rf, tpr_rf)\n",
    "\n",
    "y_pred_rf_lm = rf_lm.predict_proba(rf_enc.transform(rf.apply(X_test)))[:, 1]\n",
    "fpr_rf_lm, tpr_rf_lm, _ = roc_curve(y_test, y_pred_rf_lm)\n",
    "auc_rf_lm = auc(fpr_rf_lm, tpr_rf_lm)\n",
    "\n",
    "print(auc_rf, auc_rf_lm)"
   ]
  },
  {
   "cell_type": "code",
   "execution_count": 23,
   "metadata": {},
   "outputs": [
    {
     "data": {
      "text/plain": [
       "<matplotlib.axes._subplots.AxesSubplot at 0xf80d150>"
      ]
     },
     "execution_count": 23,
     "metadata": {},
     "output_type": "execute_result"
    },
    {
     "data": {
      "image/png": "[encoded data removed]",
      "text/plain": [
       "<Figure size 432x288 with 1 Axes>"
      ]
     },
     "metadata": {
      "needs_background": "light"
     },
     "output_type": "display_data"
    }
   ],
   "source": [
    "pd.Series(rf.feature_importances_, index=X_train.columns).sort_values()[-15:].plot(kind='barh')"
   ]
  },
  {
   "cell_type": "code",
   "execution_count": null,
   "metadata": {},
   "outputs": [],
   "source": [
    "# Gradient Boosting, and + Logistic Regression search\n",
    "C_grid = np.logspace(-3,3,7)\n",
    "n_estimate_grid = list(range(100,1000,100))\n",
    "m = len(C_grid)\n",
    "n = len(n_estimate_grid)\n",
    "\n",
    "auc_grd_grid = np.ndarray(shape=(m,n))\n",
    "auc_grd_lm_grid = np.ndarray(shape=(m,n) \n",
    "grd_grid = GradientBoostingClassifier(random_state=42)\n",
    "grd_lm_grid = LogisticRegression(solver='saga', max_iter=1000, random_state=42)\n",
    "grd_enc_grid = OneHotEncoder(categories='auto')\n",
    "\n",
    "for i, n_estimator in enumerate(n_estimate_grid):\n",
    "    for j, C in enumerate(C_grid):\n",
    "        grd_grid.set_params(n_estimators=n_estimator)\n",
    "        grd_lm_grid.set_params(C=C)\n",
    "        \n",
    "        grd_grid.fit(X_train, y_train)\n",
    "        grd_enc_grid.fit(grd_grid.apply(X_train)[:, :, 0])\n",
    "        grd_lm_grid.fit(grd_enc_grid.transform(grd_grid.apply(X_train_lr)[:, :, 0]), y_train_lr)\n",
    "\n",
    "        y_pred_grd_lm = grd_lm_grid.predict_proba(\n",
    "            grd_enc_grid.transform(grd_grid.apply(X_test)[:, :, 0]))[:, 1]\n",
    "        fpr_grd_lm, tpr_grd_lm, _ = roc_curve(y_test, y_pred_grd_lm)\n",
    "        auc_grd_lm_grid[i,j] = auc(fpr_grd_lm, tpr_grd_lm)\n",
    "\n",
    "        y_pred_grd = grd_grid.predict_proba(X_test)[:, 1]\n",
    "        fpr_grd, tpr_grd, _ = roc_curve(y_test, y_pred_grd)\n",
    "        auc_grd_grid[i,j]= auc(fpr_grd, tpr_grd))\n",
    "\n",
    "auc_grd_grid_idx = unravel_index(auc_grd_grid.argmax(), auc_grd_grid.shape)\n",
    "aud_grd_max = auc_grd_grid.max()\n",
    "print(aud_grd_max, auc_grd_grid_idx)\n",
    "\n",
    "auc_grd_lm_grid_idx = np.unravel_index(auc_grd_lm_grid.argmax(), auc_grd_lm_grid.shape)\n",
    "auc_grd_lm_max = auc_grd_lm_grid.max()\n",
    "print(auc_grd_lm_max, auc_grd_lm_grid_idx)\n",
    "\n",
    "if auc_grd_lm_max > auc_grd_max:\n",
    "    estm_idx, c_idx = auc_rf_lm_grid_idx\n",
    "else:\n",
    "    estm_idx, c_idx = auc_rf_grid_idx\n",
    "\n",
    "print(n_estimator_grid[estm_idx], C_grid[c_idx])"
   ]
  },
  {
   "cell_type": "code",
   "execution_count": 114,
   "metadata": {},
   "outputs": [
    {
     "name": "stdout",
     "output_type": "stream",
     "text": [
      "0.6628544535483837 0.6723435065086973\n"
     ]
    }
   ],
   "source": [
    "# max auc 0.672 at (C=0.001, n_estimator = 700) with grd + lm\n",
    "\n",
    "# Gradient Boosting, and + Logistic Regression\n",
    "\n",
    "n_estimator = 700\n",
    "grd = GradientBoostingClassifier(n_estimators=n_estimator_grid[estm_idx],random_state=42)\n",
    "grd_enc = OneHotEncoder(categories='auto')\n",
    "grd_lm = LogisticRegression(solver='saga', max_iter=1000, C=C_grid[c_idx], random_state=42)\n",
    "grd.fit(X_train, y_train)\n",
    "grd_enc.fit(grd.apply(X_train)[:, :, 0])\n",
    "grd_lm.fit(grd_enc.transform(grd.apply(X_train_lr)[:, :, 0]), y_train_lr)\n",
    "\n",
    "y_pred_grd_lm = grd_lm.predict_proba(\n",
    "    grd_enc.transform(grd.apply(X_test)[:, :, 0]))[:, 1]\n",
    "fpr_grd_lm, tpr_grd_lm, _ = roc_curve(y_test, y_pred_grd_lm)\n",
    "auc_grd_lm = auc(fpr_grd_lm, tpr_grd_lm)\n",
    "\n",
    "y_pred_grd = grd.predict_proba(X_test)[:, 1]\n",
    "fpr_grd, tpr_grd, _ = roc_curve(y_test, y_pred_grd)\n",
    "auc_grd = auc(fpr_grd, tpr_grd)\n",
    "print(auc_grd, auc_grd_lm)"
   ]
  },
  {
   "cell_type": "code",
   "execution_count": 24,
   "metadata": {},
   "outputs": [
    {
     "data": {
      "text/plain": [
       "<matplotlib.axes._subplots.AxesSubplot at 0x1437750>"
      ]
     },
     "execution_count": 24,
     "metadata": {},
     "output_type": "execute_result"
    },
    {
     "data": {
      "image/png": "[encoded data removed]",
      "text/plain": [
       "<Figure size 432x288 with 1 Axes>"
      ]
     },
     "metadata": {
      "needs_background": "light"
     },
     "output_type": "display_data"
    }
   ],
   "source": [
    "pd.Series(grd.feature_importances_, index=X_train.columns).sort_values()[-15:].plot(kind='barh')"
   ]
  },
  {
   "cell_type": "code",
   "execution_count": 26,
   "metadata": {},
   "outputs": [
    {
     "data": {
      "image/png": "[encoded data removed]",
      "text/plain": [
       "<Figure size 432x288 with 1 Axes>"
      ]
     },
     "metadata": {
      "needs_background": "light"
     },
     "output_type": "display_data"
    }
   ],
   "source": [
    "\n",
    "plt.figure(1)\n",
    "plt.plot([0, 1], [0, 1], 'k--')\n",
    "plt.plot(fpr_rf, tpr_rf, label='RF AUC={:.3f}'.format(auc_rf))\n",
    "plt.plot(fpr_rf_lm, tpr_rf_lm, label='RF + LR  AUC={:.3f}'.format(auc_rf_lm))\n",
    "plt.plot(fpr_grd, tpr_grd, label='GRD  AUC={:.3f}'.format(auc_grd))\n",
    "plt.plot(fpr_grd_lm, tpr_grd_lm, label='GRD + LR  AUC={:.3f}'.format(auc_grd_lm))\n",
    "plt.xlabel('False positive rate')\n",
    "plt.ylabel('True positive rate')\n",
    "plt.title('ROC curve')\n",
    "plt.legend(loc='best')\n",
    "plt.show()\n"
   ]
  },
  {
   "cell_type": "code",
   "execution_count": null,
   "metadata": {},
   "outputs": [],
   "source": []
  }
 ],
 "metadata": {
  "kernelspec": {
   "display_name": "Python 3",
   "language": "python",
   "name": "python3"
  },
  "language_info": {
   "codemirror_mode": {
    "name": "ipython",
    "version": 3
   },
   "file_extension": ".py",
   "mimetype": "text/x-python",
   "name": "python",
   "nbconvert_exporter": "python",
   "pygments_lexer": "ipython3",
   "version": "3.7.3"
  }
 },
 "nbformat": 4,
 "nbformat_minor": 2
}
