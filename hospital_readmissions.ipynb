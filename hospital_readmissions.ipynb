{
 "cells": [
  {
   "cell_type": "code",
   "execution_count": 1,
   "metadata": {
    "scrolled": true
   },
   "outputs": [],
   "source": [
    "from myData import *\n",
    "import pandas as pd\n",
    "import numpy as np\n",
    "from sklearn.metrics import roc_curve, auc\n",
    "from sklearn.preprocessing import LabelEncoder\n",
    "from sklearn import model_selection as ms\n",
    "from sklearn.linear_model import LogisticRegression\n",
    "from sklearn.ensemble import RandomForestClassifier, GradientBoostingClassifier\n",
    "from sklearn.pipeline import make_pipeline\n",
    "from sklearn.preprocessing import OneHotEncoder\n",
    "\n",
    "import warnings\n",
    "warnings.filterwarnings('ignore')\n",
    "from matplotlib import pyplot as plt\n",
    "%matplotlib inline\n"
   ]
  },
  {
   "cell_type": "code",
   "execution_count": 2,
   "metadata": {},
   "outputs": [
    {
     "name": "stdout",
     "output_type": "stream",
     "text": [
      "raw data shape (101766, 50)\n",
      "processed data shape: (70299, 48)\n"
     ]
    },
    {
     "data": {
      "text/plain": [
       "Index(['race', 'gender', 'age', 'weight', 'admission_type_id',\n",
       "       'discharge_disposition_id', 'admission_source_id', 'time_in_hospital',\n",
       "       'payer_code', 'medical_specialty', 'num_lab_procedures',\n",
       "       'num_procedures', 'num_medications', 'number_outpatient',\n",
       "       'number_emergency', 'number_inpatient', 'diag_1', 'diag_2', 'diag_3',\n",
       "       'number_diagnoses', 'max_glu_serum', 'A1Cresult', 'metformin',\n",
       "       'repaglinide', 'nateglinide', 'chlorpropamide', 'glimepiride',\n",
       "       'acetohexamide', 'glipizide', 'glyburide', 'tolbutamide',\n",
       "       'pioglitazone', 'rosiglitazone', 'acarbose', 'miglitol', 'troglitazone',\n",
       "       'tolazamide', 'examide', 'citoglipton', 'insulin',\n",
       "       'glyburide-metformin', 'glipizide-metformin',\n",
       "       'glimepiride-pioglitazone', 'metformin-rosiglitazone',\n",
       "       'metformin-pioglitazone', 'change', 'diabetesMed', 'readmitted'],\n",
       "      dtype='object')"
      ]
     },
     "execution_count": 2,
     "metadata": {},
     "output_type": "execute_result"
    }
   ],
   "source": [
    "df = get_data('diabetic_data.csv',labelEncode=True)\n",
    "df.columns\n"
   ]
  },
  {
   "cell_type": "code",
   "execution_count": 3,
   "metadata": {},
   "outputs": [
    {
     "data": {
      "text/html": [
       "<div>\n",
       "<style scoped>\n",
       "    .dataframe tbody tr th:only-of-type {\n",
       "        vertical-align: middle;\n",
       "    }\n",
       "\n",
       "    .dataframe tbody tr th {\n",
       "        vertical-align: top;\n",
       "    }\n",
       "\n",
       "    .dataframe thead th {\n",
       "        text-align: right;\n",
       "    }\n",
       "</style>\n",
       "<table border=\"1\" class=\"dataframe\">\n",
       "  <thead>\n",
       "    <tr style=\"text-align: right;\">\n",
       "      <th></th>\n",
       "      <th>race</th>\n",
       "      <th>gender</th>\n",
       "      <th>age</th>\n",
       "      <th>weight</th>\n",
       "      <th>admission_type_id</th>\n",
       "      <th>discharge_disposition_id</th>\n",
       "      <th>admission_source_id</th>\n",
       "      <th>time_in_hospital</th>\n",
       "      <th>payer_code</th>\n",
       "      <th>medical_specialty</th>\n",
       "      <th>num_lab_procedures</th>\n",
       "      <th>num_procedures</th>\n",
       "      <th>num_medications</th>\n",
       "      <th>number_outpatient</th>\n",
       "      <th>number_emergency</th>\n",
       "      <th>number_inpatient</th>\n",
       "      <th>diag_1</th>\n",
       "      <th>diag_2</th>\n",
       "      <th>diag_3</th>\n",
       "      <th>number_diagnoses</th>\n",
       "      <th>max_glu_serum</th>\n",
       "      <th>A1Cresult</th>\n",
       "      <th>metformin</th>\n",
       "      <th>repaglinide</th>\n",
       "      <th>nateglinide</th>\n",
       "      <th>chlorpropamide</th>\n",
       "      <th>glimepiride</th>\n",
       "      <th>acetohexamide</th>\n",
       "      <th>glipizide</th>\n",
       "      <th>glyburide</th>\n",
       "      <th>tolbutamide</th>\n",
       "      <th>pioglitazone</th>\n",
       "      <th>rosiglitazone</th>\n",
       "      <th>acarbose</th>\n",
       "      <th>miglitol</th>\n",
       "      <th>troglitazone</th>\n",
       "      <th>tolazamide</th>\n",
       "      <th>examide</th>\n",
       "      <th>citoglipton</th>\n",
       "      <th>insulin</th>\n",
       "      <th>glyburide-metformin</th>\n",
       "      <th>glipizide-metformin</th>\n",
       "      <th>glimepiride-pioglitazone</th>\n",
       "      <th>metformin-rosiglitazone</th>\n",
       "      <th>metformin-pioglitazone</th>\n",
       "      <th>change</th>\n",
       "      <th>diabetesMed</th>\n",
       "      <th>readmitted</th>\n",
       "    </tr>\n",
       "  </thead>\n",
       "  <tbody>\n",
       "    <tr>\n",
       "      <th>0</th>\n",
       "      <td>0</td>\n",
       "      <td>0</td>\n",
       "      <td>0</td>\n",
       "      <td>1</td>\n",
       "      <td>6</td>\n",
       "      <td>0</td>\n",
       "      <td>0</td>\n",
       "      <td>1</td>\n",
       "      <td>0</td>\n",
       "      <td>5</td>\n",
       "      <td>41</td>\n",
       "      <td>0</td>\n",
       "      <td>1</td>\n",
       "      <td>0</td>\n",
       "      <td>0</td>\n",
       "      <td>0</td>\n",
       "      <td>120</td>\n",
       "      <td>607</td>\n",
       "      <td>621</td>\n",
       "      <td>1</td>\n",
       "      <td>2</td>\n",
       "      <td>2</td>\n",
       "      <td>1</td>\n",
       "      <td>1</td>\n",
       "      <td>1</td>\n",
       "      <td>1</td>\n",
       "      <td>1</td>\n",
       "      <td>0</td>\n",
       "      <td>1</td>\n",
       "      <td>1</td>\n",
       "      <td>0</td>\n",
       "      <td>1</td>\n",
       "      <td>1</td>\n",
       "      <td>1</td>\n",
       "      <td>1</td>\n",
       "      <td>0</td>\n",
       "      <td>0</td>\n",
       "      <td>0</td>\n",
       "      <td>0</td>\n",
       "      <td>1</td>\n",
       "      <td>1</td>\n",
       "      <td>0</td>\n",
       "      <td>0</td>\n",
       "      <td>0</td>\n",
       "      <td>0</td>\n",
       "      <td>1</td>\n",
       "      <td>0</td>\n",
       "      <td>0</td>\n",
       "    </tr>\n",
       "    <tr>\n",
       "      <th>1</th>\n",
       "      <td>0</td>\n",
       "      <td>0</td>\n",
       "      <td>0</td>\n",
       "      <td>1</td>\n",
       "      <td>1</td>\n",
       "      <td>1</td>\n",
       "      <td>1</td>\n",
       "      <td>3</td>\n",
       "      <td>0</td>\n",
       "      <td>4</td>\n",
       "      <td>59</td>\n",
       "      <td>0</td>\n",
       "      <td>18</td>\n",
       "      <td>0</td>\n",
       "      <td>0</td>\n",
       "      <td>0</td>\n",
       "      <td>139</td>\n",
       "      <td>69</td>\n",
       "      <td>110</td>\n",
       "      <td>9</td>\n",
       "      <td>2</td>\n",
       "      <td>2</td>\n",
       "      <td>1</td>\n",
       "      <td>1</td>\n",
       "      <td>1</td>\n",
       "      <td>1</td>\n",
       "      <td>1</td>\n",
       "      <td>0</td>\n",
       "      <td>1</td>\n",
       "      <td>1</td>\n",
       "      <td>0</td>\n",
       "      <td>1</td>\n",
       "      <td>1</td>\n",
       "      <td>1</td>\n",
       "      <td>1</td>\n",
       "      <td>0</td>\n",
       "      <td>0</td>\n",
       "      <td>0</td>\n",
       "      <td>0</td>\n",
       "      <td>3</td>\n",
       "      <td>1</td>\n",
       "      <td>0</td>\n",
       "      <td>0</td>\n",
       "      <td>0</td>\n",
       "      <td>0</td>\n",
       "      <td>0</td>\n",
       "      <td>1</td>\n",
       "      <td>0</td>\n",
       "    </tr>\n",
       "    <tr>\n",
       "      <th>2</th>\n",
       "      <td>1</td>\n",
       "      <td>0</td>\n",
       "      <td>0</td>\n",
       "      <td>1</td>\n",
       "      <td>1</td>\n",
       "      <td>1</td>\n",
       "      <td>1</td>\n",
       "      <td>2</td>\n",
       "      <td>0</td>\n",
       "      <td>4</td>\n",
       "      <td>11</td>\n",
       "      <td>5</td>\n",
       "      <td>13</td>\n",
       "      <td>2</td>\n",
       "      <td>0</td>\n",
       "      <td>1</td>\n",
       "      <td>440</td>\n",
       "      <td>68</td>\n",
       "      <td>701</td>\n",
       "      <td>6</td>\n",
       "      <td>2</td>\n",
       "      <td>2</td>\n",
       "      <td>1</td>\n",
       "      <td>1</td>\n",
       "      <td>1</td>\n",
       "      <td>1</td>\n",
       "      <td>1</td>\n",
       "      <td>0</td>\n",
       "      <td>2</td>\n",
       "      <td>1</td>\n",
       "      <td>0</td>\n",
       "      <td>1</td>\n",
       "      <td>1</td>\n",
       "      <td>1</td>\n",
       "      <td>1</td>\n",
       "      <td>0</td>\n",
       "      <td>0</td>\n",
       "      <td>0</td>\n",
       "      <td>0</td>\n",
       "      <td>1</td>\n",
       "      <td>1</td>\n",
       "      <td>0</td>\n",
       "      <td>0</td>\n",
       "      <td>0</td>\n",
       "      <td>0</td>\n",
       "      <td>1</td>\n",
       "      <td>1</td>\n",
       "      <td>0</td>\n",
       "    </tr>\n",
       "    <tr>\n",
       "      <th>3</th>\n",
       "      <td>0</td>\n",
       "      <td>1</td>\n",
       "      <td>1</td>\n",
       "      <td>1</td>\n",
       "      <td>1</td>\n",
       "      <td>1</td>\n",
       "      <td>1</td>\n",
       "      <td>2</td>\n",
       "      <td>0</td>\n",
       "      <td>4</td>\n",
       "      <td>44</td>\n",
       "      <td>1</td>\n",
       "      <td>16</td>\n",
       "      <td>0</td>\n",
       "      <td>0</td>\n",
       "      <td>0</td>\n",
       "      <td>537</td>\n",
       "      <td>87</td>\n",
       "      <td>232</td>\n",
       "      <td>7</td>\n",
       "      <td>2</td>\n",
       "      <td>2</td>\n",
       "      <td>1</td>\n",
       "      <td>1</td>\n",
       "      <td>1</td>\n",
       "      <td>1</td>\n",
       "      <td>1</td>\n",
       "      <td>0</td>\n",
       "      <td>1</td>\n",
       "      <td>1</td>\n",
       "      <td>0</td>\n",
       "      <td>1</td>\n",
       "      <td>1</td>\n",
       "      <td>1</td>\n",
       "      <td>1</td>\n",
       "      <td>0</td>\n",
       "      <td>0</td>\n",
       "      <td>0</td>\n",
       "      <td>0</td>\n",
       "      <td>3</td>\n",
       "      <td>1</td>\n",
       "      <td>0</td>\n",
       "      <td>0</td>\n",
       "      <td>0</td>\n",
       "      <td>0</td>\n",
       "      <td>0</td>\n",
       "      <td>1</td>\n",
       "      <td>0</td>\n",
       "    </tr>\n",
       "    <tr>\n",
       "      <th>4</th>\n",
       "      <td>0</td>\n",
       "      <td>1</td>\n",
       "      <td>1</td>\n",
       "      <td>1</td>\n",
       "      <td>1</td>\n",
       "      <td>1</td>\n",
       "      <td>1</td>\n",
       "      <td>1</td>\n",
       "      <td>0</td>\n",
       "      <td>4</td>\n",
       "      <td>51</td>\n",
       "      <td>0</td>\n",
       "      <td>8</td>\n",
       "      <td>0</td>\n",
       "      <td>0</td>\n",
       "      <td>0</td>\n",
       "      <td>51</td>\n",
       "      <td>19</td>\n",
       "      <td>75</td>\n",
       "      <td>5</td>\n",
       "      <td>2</td>\n",
       "      <td>2</td>\n",
       "      <td>1</td>\n",
       "      <td>1</td>\n",
       "      <td>1</td>\n",
       "      <td>1</td>\n",
       "      <td>1</td>\n",
       "      <td>0</td>\n",
       "      <td>2</td>\n",
       "      <td>1</td>\n",
       "      <td>0</td>\n",
       "      <td>1</td>\n",
       "      <td>1</td>\n",
       "      <td>1</td>\n",
       "      <td>1</td>\n",
       "      <td>0</td>\n",
       "      <td>0</td>\n",
       "      <td>0</td>\n",
       "      <td>0</td>\n",
       "      <td>2</td>\n",
       "      <td>1</td>\n",
       "      <td>0</td>\n",
       "      <td>0</td>\n",
       "      <td>0</td>\n",
       "      <td>0</td>\n",
       "      <td>0</td>\n",
       "      <td>1</td>\n",
       "      <td>0</td>\n",
       "    </tr>\n",
       "  </tbody>\n",
       "</table>\n",
       "</div>"
      ],
      "text/plain": [
       "   race  gender  age  weight  admission_type_id  discharge_disposition_id  \\\n",
       "0     0       0    0       1                  6                         0   \n",
       "1     0       0    0       1                  1                         1   \n",
       "2     1       0    0       1                  1                         1   \n",
       "3     0       1    1       1                  1                         1   \n",
       "4     0       1    1       1                  1                         1   \n",
       "\n",
       "   admission_source_id  time_in_hospital  payer_code  medical_specialty  \\\n",
       "0                    0                 1           0                  5   \n",
       "1                    1                 3           0                  4   \n",
       "2                    1                 2           0                  4   \n",
       "3                    1                 2           0                  4   \n",
       "4                    1                 1           0                  4   \n",
       "\n",
       "   num_lab_procedures  num_procedures  num_medications  number_outpatient  \\\n",
       "0                  41               0                1                  0   \n",
       "1                  59               0               18                  0   \n",
       "2                  11               5               13                  2   \n",
       "3                  44               1               16                  0   \n",
       "4                  51               0                8                  0   \n",
       "\n",
       "   number_emergency  number_inpatient  diag_1  diag_2  diag_3  \\\n",
       "0                 0                 0     120     607     621   \n",
       "1                 0                 0     139      69     110   \n",
       "2                 0                 1     440      68     701   \n",
       "3                 0                 0     537      87     232   \n",
       "4                 0                 0      51      19      75   \n",
       "\n",
       "   number_diagnoses  max_glu_serum  A1Cresult  metformin  repaglinide  \\\n",
       "0                 1              2          2          1            1   \n",
       "1                 9              2          2          1            1   \n",
       "2                 6              2          2          1            1   \n",
       "3                 7              2          2          1            1   \n",
       "4                 5              2          2          1            1   \n",
       "\n",
       "   nateglinide  chlorpropamide  glimepiride  acetohexamide  glipizide  \\\n",
       "0            1               1            1              0          1   \n",
       "1            1               1            1              0          1   \n",
       "2            1               1            1              0          2   \n",
       "3            1               1            1              0          1   \n",
       "4            1               1            1              0          2   \n",
       "\n",
       "   glyburide  tolbutamide  pioglitazone  rosiglitazone  acarbose  miglitol  \\\n",
       "0          1            0             1              1         1         1   \n",
       "1          1            0             1              1         1         1   \n",
       "2          1            0             1              1         1         1   \n",
       "3          1            0             1              1         1         1   \n",
       "4          1            0             1              1         1         1   \n",
       "\n",
       "   troglitazone  tolazamide  examide  citoglipton  insulin  \\\n",
       "0             0           0        0            0        1   \n",
       "1             0           0        0            0        3   \n",
       "2             0           0        0            0        1   \n",
       "3             0           0        0            0        3   \n",
       "4             0           0        0            0        2   \n",
       "\n",
       "   glyburide-metformin  glipizide-metformin  glimepiride-pioglitazone  \\\n",
       "0                    1                    0                         0   \n",
       "1                    1                    0                         0   \n",
       "2                    1                    0                         0   \n",
       "3                    1                    0                         0   \n",
       "4                    1                    0                         0   \n",
       "\n",
       "   metformin-rosiglitazone  metformin-pioglitazone  change  diabetesMed  \\\n",
       "0                        0                       0       1            0   \n",
       "1                        0                       0       0            1   \n",
       "2                        0                       0       1            1   \n",
       "3                        0                       0       0            1   \n",
       "4                        0                       0       0            1   \n",
       "\n",
       "   readmitted  \n",
       "0           0  \n",
       "1           0  \n",
       "2           0  \n",
       "3           0  \n",
       "4           0  "
      ]
     },
     "execution_count": 3,
     "metadata": {},
     "output_type": "execute_result"
    }
   ],
   "source": [
    "pd.set_option('display.max_columns', 50)\n",
    "df.head()"
   ]
  },
  {
   "cell_type": "code",
   "execution_count": 4,
   "metadata": {},
   "outputs": [
    {
     "data": {
      "text/plain": [
       "<matplotlib.axes._subplots.AxesSubplot at 0x97aa070>"
      ]
     },
     "execution_count": 4,
     "metadata": {},
     "output_type": "execute_result"
    },
    {
     "data": {
      "image/png": "[encoded data removed]",
      "text/plain": [
       "<Figure size 432x288 with 1 Axes>"
      ]
     },
     "metadata": {
      "needs_background": "light"
     },
     "output_type": "display_data"
    }
   ],
   "source": [
    "\n",
    "inpatient_count = df['number_inpatient'].value_counts()\n",
    "#print(inpatient_count)\n",
    "(df.loc[df['readmitted']==1, 'number_inpatient'].value_counts()/inpatient_count).plot(kind='bar')\n"
   ]
  },
  {
   "cell_type": "code",
   "execution_count": 5,
   "metadata": {},
   "outputs": [
    {
     "name": "stdout",
     "output_type": "stream",
     "text": [
      "Help on function group_specialty in module myData:\n",
      "\n",
      "group_specialty(x)\n",
      "    Cardiology: 0\n",
      "    General pratice: 1\n",
      "    Internal medicine: 2\n",
      "    Surgery: 3\n",
      "    Missing: 4\n",
      "    Others: 5\n",
      "\n"
     ]
    },
    {
     "data": {
      "text/plain": [
       "<matplotlib.axes._subplots.AxesSubplot at 0xeaab430>"
      ]
     },
     "execution_count": 5,
     "metadata": {},
     "output_type": "execute_result"
    },
    {
     "data": {
      "image/png": "[encoded data removed]",
      "text/plain": [
       "<Figure size 432x288 with 1 Axes>"
      ]
     },
     "metadata": {
      "needs_background": "light"
     },
     "output_type": "display_data"
    }
   ],
   "source": [
    "help(group_specialty)\n",
    "specialty_count=df['medical_specialty'].value_counts()\n",
    "#print(specialty_count)\n",
    "(df.loc[df['readmitted']==1, 'medical_specialty'].value_counts()/specialty_count).\\\n",
    "    plot(kind='bar')"
   ]
  },
  {
   "cell_type": "code",
   "execution_count": 6,
   "metadata": {},
   "outputs": [
    {
     "name": "stdout",
     "output_type": "stream",
     "text": [
      "Help on function group_race in module myData:\n",
      "\n",
      "group_race(x)\n",
      "    0: Caucasian, \n",
      "    1: AfricanAmerican, \n",
      "    2: missing, \n",
      "    3: others\n",
      "\n"
     ]
    },
    {
     "data": {
      "text/plain": [
       "<matplotlib.axes._subplots.AxesSubplot at 0xeadbe10>"
      ]
     },
     "execution_count": 6,
     "metadata": {},
     "output_type": "execute_result"
    },
    {
     "data": {
      "image/png": "[encoded data removed]",
      "text/plain": [
       "<Figure size 432x288 with 1 Axes>"
      ]
     },
     "metadata": {
      "needs_background": "light"
     },
     "output_type": "display_data"
    }
   ],
   "source": [
    "help(group_race)\n",
    "race_count=df['race'].value_counts()\n",
    "#print(race_count)\n",
    "(df.loc[df['readmitted']==1, 'race'].value_counts()/race_count).plot(kind='bar')"
   ]
  },
  {
   "cell_type": "code",
   "execution_count": 7,
   "metadata": {},
   "outputs": [
    {
     "name": "stdout",
     "output_type": "stream",
     "text": [
      "Help on function group_age in module myData:\n",
      "\n",
      "group_age(x)\n",
      "    age 0-30: 0\n",
      "    age 30-60: 1\n",
      "    age 60-100: 2\n",
      "\n"
     ]
    },
    {
     "data": {
      "text/plain": [
       "<matplotlib.axes._subplots.AxesSubplot at 0xeb47030>"
      ]
     },
     "execution_count": 7,
     "metadata": {},
     "output_type": "execute_result"
    },
    {
     "data": {
      "image/png": "[encoded data removed]",
      "text/plain": [
       "<Figure size 432x288 with 1 Axes>"
      ]
     },
     "metadata": {
      "needs_background": "light"
     },
     "output_type": "display_data"
    }
   ],
   "source": [
    "help(group_age)\n",
    "age_count=df['age'].value_counts()\n",
    "#print(age_count)\n",
    "\n",
    "# age group 2 (60-90) has the highest readmission rate, next group 3 is (90-100), but all groups are closed\n",
    "(df.loc[df['readmitted']==1, 'age'].value_counts()/age_count).plot(kind='bar')"
   ]
  },
  {
   "cell_type": "code",
   "execution_count": 8,
   "metadata": {
    "scrolled": true
   },
   "outputs": [
    {
     "name": "stdout",
     "output_type": "stream",
     "text": [
      "Help on function group_discharge in module myData:\n",
      "\n",
      "group_discharge(x)\n",
      "    0: others, \n",
      "    1: discharged to home\n",
      "\n"
     ]
    },
    {
     "data": {
      "text/plain": [
       "<matplotlib.axes._subplots.AxesSubplot at 0xeb89fd0>"
      ]
     },
     "execution_count": 8,
     "metadata": {},
     "output_type": "execute_result"
    },
    {
     "data": {
      "image/png": "[encoded data removed]",
      "text/plain": [
       "<Figure size 432x288 with 1 Axes>"
      ]
     },
     "metadata": {
      "needs_background": "light"
     },
     "output_type": "display_data"
    }
   ],
   "source": [
    "help(group_discharge)\n",
    "discharge_count=df['discharge_disposition_id'].value_counts()\n",
    "#print(discharge_count)\n",
    "\n",
    "(df.loc[df['readmitted']==1, 'discharge_disposition_id'].value_counts()/discharge_count).plot(kind='bar')"
   ]
  },
  {
   "cell_type": "code",
   "execution_count": 9,
   "metadata": {},
   "outputs": [
    {
     "name": "stdout",
     "output_type": "stream",
     "text": [
      "Help on function group_readmitted in module myData:\n",
      "\n",
      "group_readmitted(x)\n",
      "    <30 days: 1\n",
      "    Others: 0\n",
      "\n"
     ]
    }
   ],
   "source": [
    "help(group_readmitted)"
   ]
  },
  {
   "cell_type": "code",
   "execution_count": 10,
   "metadata": {},
   "outputs": [],
   "source": [
    "numerical = []\n",
    "for x in df.columns[:-1]:\n",
    "    if df[x].dtypes == 'int64':\n",
    "        numerical.append(x)"
   ]
  },
  {
   "cell_type": "code",
   "execution_count": 11,
   "metadata": {},
   "outputs": [
    {
     "data": {
      "text/plain": [
       "array([[<matplotlib.axes._subplots.AxesSubplot object at 0x0EB89570>,\n",
       "        <matplotlib.axes._subplots.AxesSubplot object at 0x0EBDBEF0>,\n",
       "        <matplotlib.axes._subplots.AxesSubplot object at 0x0EBFAFD0>,\n",
       "        <matplotlib.axes._subplots.AxesSubplot object at 0x09B4BB10>],\n",
       "       [<matplotlib.axes._subplots.AxesSubplot object at 0x09B6BBF0>,\n",
       "        <matplotlib.axes._subplots.AxesSubplot object at 0x09B8BCD0>,\n",
       "        <matplotlib.axes._subplots.AxesSubplot object at 0x09BADDB0>,\n",
       "        <matplotlib.axes._subplots.AxesSubplot object at 0x09BCEE90>],\n",
       "       [<matplotlib.axes._subplots.AxesSubplot object at 0x09BD8450>,\n",
       "        <matplotlib.axes._subplots.AxesSubplot object at 0x09BF65F0>,\n",
       "        <matplotlib.axes._subplots.AxesSubplot object at 0x09C386F0>,\n",
       "        <matplotlib.axes._subplots.AxesSubplot object at 0x09C597D0>],\n",
       "       [<matplotlib.axes._subplots.AxesSubplot object at 0x09C7B8B0>,\n",
       "        <matplotlib.axes._subplots.AxesSubplot object at 0x09C9B990>,\n",
       "        <matplotlib.axes._subplots.AxesSubplot object at 0x09CB9A70>,\n",
       "        <matplotlib.axes._subplots.AxesSubplot object at 0x09CDBB50>]],\n",
       "      dtype=object)"
      ]
     },
     "execution_count": 11,
     "metadata": {},
     "output_type": "execute_result"
    },
    {
     "data": {
      "image/png": "[encoded data removed]",
      "text/plain": [
       "<Figure size 432x288 with 16 Axes>"
      ]
     },
     "metadata": {
      "needs_background": "light"
     },
     "output_type": "display_data"
    }
   ],
   "source": [
    "df[numerical].hist()"
   ]
  },
  {
   "cell_type": "code",
   "execution_count": 12,
   "metadata": {},
   "outputs": [],
   "source": [
    "\n",
    "#X = dummie\n",
    "y = df['readmitted']\n",
    "X = df.drop(columns=['readmitted'])\n",
    "X_train, X_test, y_train, y_test = ms.train_test_split(X, y, shuffle=True, test_size=0.2, random_state=0)\n",
    "\n",
    "X_train, X_train_lr, y_train, y_train_lr = ms.train_test_split(\n",
    "    X_train, y_train, test_size=0.5)"
   ]
  },
  {
   "cell_type": "code",
   "execution_count": 13,
   "metadata": {},
   "outputs": [
    {
     "name": "stdout",
     "output_type": "stream",
     "text": [
      "(28119, 47) (28120, 47) (14060, 47)\n"
     ]
    }
   ],
   "source": [
    "print(X_train.shape, X_train_lr.shape, X_test.shape)"
   ]
  },
  {
   "cell_type": "code",
   "execution_count": 13,
   "metadata": {},
   "outputs": [],
   "source": [
    "#X_train.number_inpatient = X_train.number_inpatient.apply(np.log1p)\n",
    "\n",
    "#X_test.number_inpatient = X_test.number_inpatient.apply(np.log1p)"
   ]
  },
  {
   "cell_type": "code",
   "execution_count": 15,
   "metadata": {},
   "outputs": [
    {
     "name": "stdout",
     "output_type": "stream",
     "text": [
      "0.6586869260936505 0.654648570199163\n"
     ]
    }
   ],
   "source": [
    "# Random Forest,  and + Logistic Regression\n",
    "\n",
    "n_estimator = 15\n",
    "rf = RandomForestClassifier(max_depth=5, n_estimators=n_estimator, random_state=42)\n",
    "rf_enc = OneHotEncoder(categories='auto')\n",
    "rf_lm = LogisticRegression(solver='saga', max_iter=1000, C=0.001, random_state=42)\n",
    "rf.fit(X_train, y_train)\n",
    "rf_enc.fit(rf.apply(X_train))\n",
    "rf_lm.fit(rf_enc.transform(rf.apply(X_train_lr)), y_train_lr)\n",
    "\n",
    "y_pred_rf = rf.predict_proba(X_test)[:, 1]\n",
    "fpr_rf, tpr_rf, _ = roc_curve(y_test, y_pred_rf)\n",
    "auc_rf = auc(fpr_rf, tpr_rf)\n",
    "\n",
    "y_pred_rf_lm = rf_lm.predict_proba(rf_enc.transform(rf.apply(X_test)))[:, 1]\n",
    "fpr_rf_lm, tpr_rf_lm, _ = roc_curve(y_test, y_pred_rf_lm)\n",
    "auc_rf_lm = auc(fpr_rf_lm, tpr_rf_lm)\n",
    "\n",
    "print(auc_rf, auc_rf_lm)"
   ]
  },
  {
   "cell_type": "code",
   "execution_count": 16,
   "metadata": {},
   "outputs": [
    {
     "data": {
      "text/plain": [
       "<matplotlib.axes._subplots.AxesSubplot at 0xe1eadb0>"
      ]
     },
     "execution_count": 16,
     "metadata": {},
     "output_type": "execute_result"
    },
    {
     "data": {
      "image/png": "[encoded data removed]",
      "text/plain": [
       "<Figure size 432x288 with 1 Axes>"
      ]
     },
     "metadata": {
      "needs_background": "light"
     },
     "output_type": "display_data"
    }
   ],
   "source": [
    "pd.Series(rf.feature_importances_, index=X_train.columns).sort_values()[-25:].plot(kind='barh')"
   ]
  },
  {
   "cell_type": "code",
   "execution_count": 17,
   "metadata": {},
   "outputs": [
    {
     "name": "stdout",
     "output_type": "stream",
     "text": [
      "0.6692573755964464 0.6636384255670222\n"
     ]
    }
   ],
   "source": [
    "# Gradient Boosting, and + Logistic Regression\n",
    "\n",
    "n_estimator = 100\n",
    "grd = GradientBoostingClassifier(n_estimators=n_estimator,random_state=42)\n",
    "grd_enc = OneHotEncoder(categories='auto')\n",
    "grd_lm = LogisticRegression(solver='saga', max_iter=1000, C=0.001, random_state=42)\n",
    "grd.fit(X_train, y_train)\n",
    "grd_enc.fit(grd.apply(X_train)[:, :, 0])\n",
    "grd_lm.fit(grd_enc.transform(grd.apply(X_train_lr)[:, :, 0]), y_train_lr)\n",
    "\n",
    "y_pred_grd_lm = grd_lm.predict_proba(\n",
    "    grd_enc.transform(grd.apply(X_test)[:, :, 0]))[:, 1]\n",
    "fpr_grd_lm, tpr_grd_lm, _ = roc_curve(y_test, y_pred_grd_lm)\n",
    "auc_grd_lm = auc(fpr_grd_lm, tpr_grd_lm)\n",
    "\n",
    "y_pred_grd = grd.predict_proba(X_test)[:, 1]\n",
    "fpr_grd, tpr_grd, _ = roc_curve(y_test, y_pred_grd)\n",
    "auc_grd = auc(fpr_grd, tpr_grd)\n",
    "print(auc_grd, auc_grd_lm)"
   ]
  },
  {
   "cell_type": "code",
   "execution_count": 18,
   "metadata": {},
   "outputs": [
    {
     "data": {
      "text/plain": [
       "<matplotlib.axes._subplots.AxesSubplot at 0xf3dceb0>"
      ]
     },
     "execution_count": 18,
     "metadata": {},
     "output_type": "execute_result"
    },
    {
     "data": {
      "image/png": "[encoded data removed]",
      "text/plain": [
       "<Figure size 432x288 with 1 Axes>"
      ]
     },
     "metadata": {
      "needs_background": "light"
     },
     "output_type": "display_data"
    }
   ],
   "source": [
    "pd.Series(grd.feature_importances_, index=X_train.columns).sort_values()[-15:].plot(kind='barh')"
   ]
  },
  {
   "cell_type": "code",
   "execution_count": 22,
   "metadata": {},
   "outputs": [
    {
     "name": "stdout",
     "output_type": "stream",
     "text": [
      "0.6643871949863949\n"
     ]
    }
   ],
   "source": [
    "# Logistic Regression\n",
    "\n",
    "X_train_lrc = pd.concat([X_train,X_train_lr],axis=0)\n",
    "y_train_lrc = y[X_train_lrc.index]\n",
    "\n",
    "enc = OneHotEncoder(categories='auto')\n",
    "enc.fit(X)\n",
    "\n",
    "lm = LogisticRegression(solver='saga', max_iter=1000, C=0.01, penalty='l2', random_state=42)\n",
    "#lm = LogisticRegression(solver='saga', max_iter=100, C=10, penalty='l1', random_state=42)\n",
    "lm.fit(enc.transform(X_train_lrc), y_train_lrc)\n",
    "\n",
    "y_pred_lm = lm.predict_proba(\n",
    "    enc.transform(X_test))[:, 1]\n",
    "\n",
    "fpr_lm, tpr_lm, _ = roc_curve(y_test, y_pred_lm)\n",
    "auc_lm = auc(fpr_lm, tpr_lm)\n",
    "print(auc_lm)"
   ]
  },
  {
   "cell_type": "code",
   "execution_count": 23,
   "metadata": {},
   "outputs": [
    {
     "data": {
      "image/png": "[encoded data removed]",
      "text/plain": [
       "<Figure size 432x288 with 1 Axes>"
      ]
     },
     "metadata": {
      "needs_background": "light"
     },
     "output_type": "display_data"
    }
   ],
   "source": [
    "\n",
    "plt.figure(1)\n",
    "plt.plot([0, 1], [0, 1], 'k--')\n",
    "plt.plot(fpr_rf, tpr_rf, label='RF AUC={:.3f}'.format(auc_rf))\n",
    "plt.plot(fpr_rf_lm, tpr_rf_lm, label='RF + LR  AUC={:.3f}'.format(auc_rf_lm))\n",
    "plt.plot(fpr_grd, tpr_grd, label='GBT  AUC={:.3f}'.format(auc_grd))\n",
    "plt.plot(fpr_grd_lm, tpr_grd_lm, label='GBT + LR  AUC={:.3f}'.format(auc_grd_lm))\n",
    "plt.plot(fpr_lm, tpr_lm, label='LR  AUC={:.3f}'.format(auc_lm))\n",
    "plt.xlabel('False positive rate')\n",
    "plt.ylabel('True positive rate')\n",
    "plt.title('ROC curve')\n",
    "plt.legend(loc='best')\n",
    "plt.show()\n"
   ]
  },
  {
   "cell_type": "code",
   "execution_count": 24,
   "metadata": {},
   "outputs": [
    {
     "data": {
      "image/png": "[encoded data removed]",
      "text/plain": [
       "<Figure size 432x288 with 1 Axes>"
      ]
     },
     "metadata": {
      "needs_background": "light"
     },
     "output_type": "display_data"
    }
   ],
   "source": [
    "plt.figure(2)\n",
    "plt.xlim(0.25, 0.5)\n",
    "plt.ylim(0.5, 0.7)\n",
    "plt.plot([0, 1], [0, 1], 'k--')\n",
    "plt.plot(fpr_rf, tpr_rf, label='RF')\n",
    "plt.plot(fpr_rf_lm, tpr_rf_lm, label='RF + LR')\n",
    "plt.plot(fpr_grd, tpr_grd, label='GBT')\n",
    "plt.plot(fpr_grd_lm, tpr_grd_lm, label='GBT + LR')\n",
    "plt.plot(fpr_lm, tpr_lm, label='LR')\n",
    "plt.xlabel('False positive rate')\n",
    "plt.ylabel('True positive rate')\n",
    "plt.title('ROC curve (zoomed in at middle)')\n",
    "plt.legend(loc='best')\n",
    "plt.show()"
   ]
  },
  {
   "cell_type": "code",
   "execution_count": 68,
   "metadata": {},
   "outputs": [
    {
     "name": "stdout",
     "output_type": "stream",
     "text": [
      "rf  0.6648472763267802 (3, 3, 0)\n",
      "rf + lm  0.66216324024439 (1, 3, 1)\n",
      "5 40 0.001\n"
     ]
    }
   ],
   "source": [
    "# Random Forest, and + Logistic Regression search\n",
    "\n",
    "np.random.seed(10)\n",
    "max_depth_grid = list(range(2,6))\n",
    "n_estimator_grid = list(range(10, 50, 10))\n",
    "C_grid = np.logspace(-3,3,7)\n",
    "n = len(C_grid)\n",
    "m = len(n_estimator_grid)\n",
    "l = len(max_depth_grid)\n",
    "\n",
    "auc_rf_grid = np.ndarray((l, m, n))\n",
    "auc_rf_lm_grid = np.ndarray((l, m, n))\n",
    "\n",
    "rf_grid = RandomForestClassifier(random_state=42)\n",
    "rf_lm_grid = LogisticRegression(solver='saga', max_iter=1000, random_state=42)\n",
    "rf_enc_grid = OneHotEncoder(categories='auto')\n",
    "\n",
    "\n",
    "for i, max_depth in enumerate(max_depth_grid):\n",
    "    for j, n_estimator in enumerate(n_estimator_grid):\n",
    "        for k, c in enumerate(C_grid):\n",
    "            rf_grid.set_params(n_estimators=n_estimator, max_depth=max_depth)\n",
    "            rf_lm_grid.set_params(C=c)\n",
    "\n",
    "            rf_grid.fit(X_train, y_train)\n",
    "            rf_enc_grid.fit(rf_grid.apply(X_train))\n",
    "            rf_lm_grid.fit(rf_enc_grid.transform(rf_grid.apply(X_train_lr)), y_train_lr)\n",
    "\n",
    "            y_pred_rf_lm = rf_lm_grid.predict_proba(\n",
    "                rf_enc_grid.transform(rf_grid.apply(X_test)))[:, 1]\n",
    "            fpr_rf_lm, tpr_rf_lm, _ = roc_curve(y_test, y_pred_rf_lm)\n",
    "            auc_rf_lm_grid[i,j,k] = auc(fpr_rf_lm, tpr_rf_lm)\n",
    "\n",
    "            y_pred_rf = rf_grid.predict_proba(X_test)[:, 1]\n",
    "            fpr_rf, tpr_rf, _ = roc_curve(y_test, y_pred_rf)\n",
    "            auc_rf_grid[i,j,k] = auc(fpr_rf, tpr_rf)\n",
    "\n",
    "auc_rf_grid_idx = np.unravel_index(auc_rf_grid.argmax(), auc_rf_grid.shape)\n",
    "auc_rf_max = auc_rf_grid.max()\n",
    "print('rf ', auc_rf_max, auc_rf_grid_idx)\n",
    "\n",
    "auc_rf_lm_max = auc_rf_lm_grid.max()\n",
    "auc_rf_lm_grid_idx = np.unravel_index(auc_rf_lm_grid.argmax(), auc_rf_lm_grid.shape)\n",
    "print('rf + lm ', auc_rf_lm_max, auc_rf_lm_grid_idx)\n",
    "\n",
    "if auc_rf_lm_max > auc_rf_max:\n",
    "    depth_idx, estm_idx, c_idx = auc_rf_lm_grid_idx\n",
    "else:\n",
    "    depth_idx, estm_idx, c_idx = auc_rf_grid_idx\n",
    "\n",
    "print(max_depth_grid[depth_idx], n_estimator_grid[estm_idx], C_grid[c_idx])"
   ]
  },
  {
   "cell_type": "code",
   "execution_count": null,
   "metadata": {},
   "outputs": [],
   "source": [
    "# Gradient Boosting, and + Logistic Regression search\n",
    "C_grid = np.logspace(-3,3,7)\n",
    "n_estimate_grid = list(range(100,1000,100))\n",
    "m = len(C_grid)\n",
    "n = len(n_estimate_grid)\n",
    "\n",
    "auc_grd_grid = np.ndarray(shape=(m,n))\n",
    "auc_grd_lm_grid = np.ndarray(shape=(m,n) \n",
    "grd_grid = GradientBoostingClassifier(random_state=42)\n",
    "grd_lm_grid = LogisticRegression(solver='saga', max_iter=1000, random_state=42)\n",
    "grd_enc_grid = OneHotEncoder(categories='auto')\n",
    "\n",
    "for i, n_estimator in enumerate(n_estimate_grid):\n",
    "    for j, C in enumerate(C_grid):\n",
    "        grd_grid.set_params(n_estimators=n_estimator)\n",
    "        grd_lm_grid.set_params(C=C)\n",
    "        \n",
    "        grd_grid.fit(X_train, y_train)\n",
    "        grd_enc_grid.fit(grd_grid.apply(X_train)[:, :, 0])\n",
    "        grd_lm_grid.fit(grd_enc_grid.transform(grd_grid.apply(X_train_lr)[:, :, 0]), y_train_lr)\n",
    "\n",
    "        y_pred_grd_lm = grd_lm_grid.predict_proba(\n",
    "            grd_enc_grid.transform(grd_grid.apply(X_test)[:, :, 0]))[:, 1]\n",
    "        fpr_grd_lm, tpr_grd_lm, _ = roc_curve(y_test, y_pred_grd_lm)\n",
    "        auc_grd_lm_grid[i,j] = auc(fpr_grd_lm, tpr_grd_lm)\n",
    "\n",
    "        y_pred_grd = grd_grid.predict_proba(X_test)[:, 1]\n",
    "        fpr_grd, tpr_grd, _ = roc_curve(y_test, y_pred_grd)\n",
    "        auc_grd_grid[i,j]= auc(fpr_grd, tpr_grd))\n",
    "\n",
    "auc_grd_grid_idx = unravel_index(auc_grd_grid.argmax(), auc_grd_grid.shape)\n",
    "aud_grd_max = auc_grd_grid.max()\n",
    "print(aud_grd_max, auc_grd_grid_idx)\n",
    "\n",
    "auc_grd_lm_grid_idx = np.unravel_index(auc_grd_lm_grid.argmax(), auc_grd_lm_grid.shape)\n",
    "auc_grd_lm_max = auc_grd_lm_grid.max()\n",
    "print(auc_grd_lm_max, auc_grd_lm_grid_idx)\n",
    "\n",
    "if auc_grd_lm_max > auc_grd_max:\n",
    "    estm_idx, c_idx = auc_rf_lm_grid_idx\n",
    "else:\n",
    "    estm_idx, c_idx = auc_rf_grid_idx\n",
    "\n",
    "print(n_estimator_grid[estm_idx], C_grid[c_idx])"
   ]
  },
  {
   "cell_type": "code",
   "execution_count": null,
   "metadata": {},
   "outputs": [],
   "source": []
  }
 ],
 "metadata": {
  "kernelspec": {
   "display_name": "Python 3",
   "language": "python",
   "name": "python3"
  },
  "language_info": {
   "codemirror_mode": {
    "name": "ipython",
    "version": 3
   },
   "file_extension": ".py",
   "mimetype": "text/x-python",
   "name": "python",
   "nbconvert_exporter": "python",
   "pygments_lexer": "ipython3",
   "version": "3.7.3"
  }
 },
 "nbformat": 4,
 "nbformat_minor": 2
}
